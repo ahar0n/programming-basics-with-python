{
 "cells": [
  {
   "cell_type": "markdown",
   "source": [
    "# Ejercicios de algoritmos utilizando bucles\n",
    "\n",
    "### E1. Seguimiento de algoritmos\n",
    "\n",
    "1.  Utilizando un tabla de seguimiento, realiza la ejecución manual de cada instrucciones de los algoritmos y, cada vez que el valor de una variable cambia escribe su valor en una nueva fila de la tabla. Si el dato es de tipo cadena de caracteres (`str`), debes escribirla entre comillas simples o dobles.\n",
    "\n",
    "2. Una vez terminado el seguimiento, describe cuál es la función de cada algoritmo.\n",
    "\n",
    "3. Como actividad complementaria, diseña el diagrama de flujo correspondiente para cada algoritmo."
   ],
   "metadata": {}
  },
  {
   "cell_type": "code",
   "execution_count": null,
   "source": [
    "i = 0\n",
    "while i < 6:\n",
    "    print(i)\n",
    "    i += 1"
   ],
   "outputs": [],
   "metadata": {}
  },
  {
   "cell_type": "code",
   "execution_count": null,
   "source": [
    "i = 0\n",
    "while i < 6:\n",
    "    i += 1\n",
    "    print(i)"
   ],
   "outputs": [],
   "metadata": {}
  },
  {
   "cell_type": "code",
   "execution_count": null,
   "source": [
    "n = int(input('n: '))\n",
    "mx = n\n",
    "mn = n\n",
    "for i in range(2, 101):\n",
    "    n = int(input('n: '))\n",
    "    if n > mx:\n",
    "        mx = n\n",
    "    elif n < mn:\n",
    "        mn = n\n",
    "print(mn, mx)"
   ],
   "outputs": [],
   "metadata": {}
  },
  {
   "cell_type": "markdown",
   "source": [
    "### E2. Diseño de algoritmos"
   ],
   "metadata": {}
  },
  {
   "cell_type": "markdown",
   "source": [
    "E2a. Diseñe un programa que muestre las tablas de multiplicar del 1 al 10, de los productos sucesivos desde el 0 al 12."
   ],
   "metadata": {}
  },
  {
   "cell_type": "markdown",
   "source": [
    "1. Identificar las entradas: no hay entradas\n",
    "2. Identificar las salidas: \n",
    "\n",
    "```\n",
    "    1 x 0 = 0\n",
    "    1 x 1 = 1\n",
    "    1 x 2 = 2\n",
    "    1 x 3 = 3\n",
    "    1 x 4 = 4\n",
    "    1 x 5 = 5\n",
    "    1 x 6 = 6\n",
    "    1 x 7 = 7\n",
    "    1 x 8 = 8\n",
    "    1 x 9 = 9\n",
    "    1 x 10 = 10\n",
    "    1 x 11 = 11\n",
    "    1 x 12 = 12\n",
    "\n",
    "    2 x 0 = 0\n",
    "    2 x 1 = 2\n",
    "    :\n",
    "    .\n",
    "    2 x 12 = 24\n",
    "\n",
    "    3 x 0 = 0\n",
    "    3 x 1 = 3\n",
    "    :\n",
    "    .\n",
    "    3 x 12 = 36\n",
    "\n",
    "    :\n",
    "    .\n",
    "\n",
    "    10 x 0 = 0\n",
    "    10 x 1 = 10\n",
    "    :\n",
    "    .\n",
    "    10 x 12 = 120\n",
    "```\n",
    "\n",
    "3. Proceso"
   ],
   "metadata": {}
  },
  {
   "cell_type": "code",
   "execution_count": null,
   "source": [
    "for i in range(1, 11, 1):\n",
    "    print(f'Tabla del {i}')\n",
    "    for j in range(0, 13, 1):\n",
    "        producto = i * j\n",
    "        print(f'{i} x {j} = {producto}')"
   ],
   "outputs": [],
   "metadata": {}
  },
  {
   "cell_type": "markdown",
   "source": [
    "E2b. Diseñe un programa que calcule la suma de un conjunto de números ingresados por el usuario. El programa deberá mostrar el resultado cuando el usuario igrese el valor cero.\n",
    "\n",
    "Ejemplos de la ejecución del programa se muestra a continuación:\n",
    "\n",
    "```\n",
    "n: 3\n",
    "n: 2\n",
    "n: 4\n",
    "n: 1\n",
    "n: 0\n",
    "La suma es 10\n",
    "\n",
    "\n",
    "n: 10\n",
    "n: 32\n",
    "n: 45\n",
    "n: 0\n",
    "La suma es 87\n",
    "\n",
    "\n",
    "n: 0\n",
    "La suma es 0\n",
    "\n",
    "\n",
    "n: 1\n",
    "n: 2\n",
    "n: 4\n",
    "n: 5\n",
    "n: 6\n",
    "n: 7\n",
    "n: 0\n",
    "La suma es 25\n",
    "```"
   ],
   "metadata": {}
  },
  {
   "cell_type": "markdown",
   "source": [
    "### Análisis\n",
    "\n",
    "Entradas: n números (`float`) ingresados por el usuario.\n",
    "\n",
    "Salidas: suma de n valores (`float`)\n",
    "\n",
    "Proceso (refinamiento suscesivo):\n",
    "\n",
    "1. Leer n valores ingresados por el usuario, hasta que el valor ingresado sea cero.\n",
    "2. Calcular la sumatoria de los n valores ingresados por el usuario.\n",
    "3. Mostrar la sumatoria."
   ],
   "metadata": {}
  },
  {
   "cell_type": "markdown",
   "source": [
    "### Diseño del algoritmo"
   ],
   "metadata": {}
  },
  {
   "cell_type": "code",
   "execution_count": null,
   "source": [
    "# idea inicial (iteración 1 del diseño del algo.)\n",
    "# Supuesto: El algoritmo opera para entradas de tipo numéricos.\n",
    "\n",
    "n = float(input('Ingrese valor: '))\n",
    "while n != 0:\n",
    "    n = float(input('Ingrese valor: '))"
   ],
   "outputs": [],
   "metadata": {}
  },
  {
   "cell_type": "code",
   "execution_count": null,
   "source": [
    "# refinamiento 2\n",
    "# Supuesto: El algoritmo opera para entradas de tipo numéricos.\n",
    "\n",
    "n = float(input('Ingrese valor: '))\n",
    "suma = n\n",
    "while n != 0:\n",
    "    n = float(input('Ingrese valor: '))\n",
    "    suma += n"
   ],
   "outputs": [],
   "metadata": {}
  },
  {
   "cell_type": "code",
   "execution_count": null,
   "source": [
    "# refinamiento 3\n",
    "# Supuesto: El algoritmo opera para entradas de tipo numéricos.\n",
    "\n",
    "n = float(input('n: '))\n",
    "suma = n\n",
    "while n != 0:\n",
    "    n = float(input('n: '))\n",
    "    suma += n\n",
    "\n",
    "print(f'La suma es {suma}')"
   ],
   "outputs": [],
   "metadata": {}
  },
  {
   "cell_type": "markdown",
   "source": [
    "E2c Modifica el programa anterior (E2b) para que cada vez que se solicite un nuevo valor se muestre la suma acumulada."
   ],
   "metadata": {}
  },
  {
   "cell_type": "markdown",
   "source": [
    "E2d. Diseña un programa que calcule el promedio simple de notas ingresadas por el usuario. El programa debe finalizar cuando se ingresa la letra `x`, y deberá mostrar el promedio calculado. Además, el programa deberá omitir aquellos valores que se encuentran fuera del dominio (1 - 7).\n",
    "\n",
    "El programa debería mostrar el siguiente comportamiento:\n",
    "\n",
    "```\n",
    "ingrese nota 1: 1\n",
    "ingrese nota 2: 2.5\n",
    "ingrese nota 3: 4\n",
    "ingrese nota 4: x\n",
    "El promedio es 2.5\n",
    "\n",
    "ingrese nota 1: 7\n",
    "ingrese nota 2: 5\n",
    "ingrese nota 3: x\n",
    "El promedio es 6.0\n",
    "```"
   ],
   "metadata": {}
  },
  {
   "cell_type": "markdown",
   "source": [
    "### Análisis\n",
    "\n",
    "Entradas: n valores (`int`, `float`, `str`)\n",
    "\n",
    "Salidas: una salida de tipo `float`\n",
    "\n",
    "Proceso:\n",
    "\n",
    "1. Leer de forma repetitiva valores hasta que el usuario ingresa `x`.\n",
    "2. Detectar los valores que se encuentran en el intervalo entre 1 y 7.\n",
    "\n",
    "- Transformar entradas de tipo `str` a tipo `float`.\n",
    "- Utilizando comparadores discriminar aquellos valores entre 1 y 7.\n",
    "\n",
    "3. Calcular el promedio de los valores ingresados que se encuentren entre 1 y 7. Recordar que el promedio se puede calcular a partir de,\n",
    "\n",
    "$$ \\overline{x} = \\frac{\\sum_{i=1}^{n} x_i}{n}  $$\n",
    "\n",
    "- Utilizando un contador `n`, contar los valores ingresados, y acumular estos valores en la variable `suma`.\n",
    "- Dividir la variable `suma` por el valor de la variable `n`, almacenar el resultado en la varibale `promedio`.\n",
    "\n",
    "4. Mostrar el promedio de notas.\n",
    "\n",
    "\n",
    "### Diseño de algoritmo"
   ],
   "metadata": {}
  },
  {
   "cell_type": "code",
   "execution_count": null,
   "source": [
    "# iteracion 1\n",
    "nota = input('Ingrese nota: ')\n",
    "while nota != 'x':\n",
    "    nota = input('Ingrese nota: ')"
   ],
   "outputs": [],
   "metadata": {}
  },
  {
   "cell_type": "code",
   "execution_count": null,
   "source": [
    "# iteracion 2\n",
    "nota = input('Ingrese nota: ')\n",
    "while nota != 'x':\n",
    "    if (float(nota) >= 1) and (float(nota) <= 7):\n",
    "        print(nota)\n",
    "    nota = input('Ingrese nota: ')"
   ],
   "outputs": [],
   "metadata": {}
  },
  {
   "cell_type": "code",
   "execution_count": null,
   "source": [
    "# iteracion 3.1\n",
    "nota = input('Ingrese nota: ')\n",
    "n = 0\n",
    "suma = 0\n",
    "while nota != 'x':\n",
    "    if (float(nota) >= 1) and (float(nota) <= 7):\n",
    "        n += 1\n",
    "        suma += float(nota)\n",
    "        print(f'{n} - {suma}')\n",
    "    nota = input('Ingrese nota: ')"
   ],
   "outputs": [],
   "metadata": {}
  },
  {
   "cell_type": "code",
   "execution_count": null,
   "source": [
    "# iteracion 3.2\n",
    "nota = input('Ingrese nota: ')\n",
    "n = 0\n",
    "suma = 0\n",
    "while nota != 'x':\n",
    "    if (float(nota) >= 1) and (float(nota) <= 7):\n",
    "        n += 1\n",
    "        suma += float(nota)\n",
    "        print(f'{n} - {suma}')\n",
    "    nota = input('Ingrese nota: ')\n",
    "\n",
    "promedio = suma / n"
   ],
   "outputs": [],
   "metadata": {}
  },
  {
   "cell_type": "code",
   "execution_count": null,
   "source": [
    "# iteracion 4\n",
    "nota = input('ingrese nota: ')\n",
    "n = 0\n",
    "suma = 0\n",
    "while nota != 'x':\n",
    "    if (float(nota) >= 1) and (float(nota) <= 7):\n",
    "        n += 1\n",
    "        suma += float(nota)\n",
    "    nota = input('ingrese nota: ')\n",
    "\n",
    "promedio = suma / n\n",
    "print(f'El promedio es {promedio}')"
   ],
   "outputs": [],
   "metadata": {}
  },
  {
   "cell_type": "markdown",
   "source": [
    "E2e. Diseña un programa que identifique si un número ingresado es primo o compuesto.\n",
    "\n",
    "\n",
    "```\n",
    "Ingresa un número: 5\n",
    "Es primo\n",
    "```\n",
    "\n",
    "```\n",
    "Ingresa un número: 58\n",
    "Es compuesto\n",
    "```"
   ],
   "metadata": {}
  },
  {
   "cell_type": "markdown",
   "source": [
    "### Análisis\n",
    "\n",
    "Entradas: un número (`int`)\n",
    "\n",
    "Salidas: un mensaje: `Es primo` o `Es compuesto` (`str`)\n",
    "\n",
    "Proceso: \n",
    "\n",
    "1. Leer un numero.\n",
    "2. Recorrer los números enteros entre 1 y el numero ingresado.\n",
    "3. Dividir el numero ingresado por la secuencia de valores entre el 1 y el mismo valor.\n",
    "4. Contar todas las veces en las cuales en numero es divisible por los valores entre el 1 y el mismo número.\n",
    "5. Verificar el valor del contador, si el valor es mayor que cero, entonces, el número es primo. De lo contrario el numero es compuesto.\n",
    "6. Mostrar el mensaje de salida.\n",
    "\n",
    "### Diseño de algoritmo"
   ],
   "metadata": {}
  },
  {
   "cell_type": "code",
   "execution_count": 3,
   "source": [
    "numero = int(input('Ingrese numero: '))\n",
    "\n",
    "contador = 0\n",
    "for n in range(2, numero-1, 1):\n",
    "    resto = numero % n\n",
    "    if resto == 0:\n",
    "        contador += 1\n",
    "\n",
    "if contador > 0:\n",
    "    mensaje = 'Es compuesto'\n",
    "else:\n",
    "    mensaje = 'Es primo'\n",
    "\n",
    "print(mensaje)"
   ],
   "outputs": [
    {
     "output_type": "stream",
     "name": "stdout",
     "text": [
      "Es compuesto\n"
     ]
    }
   ],
   "metadata": {}
  },
  {
   "cell_type": "markdown",
   "source": [
    "E2f. Diseña un programa que imprima todos los números primos que exiten entre dos números ingresados. El programa debería mostrar el siguiente comportamiento:\n",
    "\n",
    "```\n",
    "Número menor: 1\n",
    "Número mayor: 7\n",
    "2\n",
    "3\n",
    "5\n",
    "\n",
    "\n",
    "Número menor: 5\n",
    "Número mayor: 9\n",
    "7\n",
    "```"
   ],
   "metadata": {}
  }
 ],
 "metadata": {
  "interpreter": {
   "hash": "b28515e4b762c096acf07038d3ee3c15931ad16d0940885c685d67d53c3751a1"
  },
  "kernelspec": {
   "display_name": "Python 3.8.5 64-bit ('base': conda)",
   "name": "python3"
  },
  "language_info": {
   "name": "python",
   "version": ""
  }
 },
 "nbformat": 4,
 "nbformat_minor": 2
}