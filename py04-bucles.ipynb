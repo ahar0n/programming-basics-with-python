{
 "cells": [
  {
   "cell_type": "markdown",
   "source": [
    "# Bucles"
   ],
   "metadata": {}
  },
  {
   "cell_type": "markdown",
   "source": [
    "Un bucle es una __secuencia de sentencias que se especifican una vez pero que puede ejecutarse repetidas veces__. \n",
    "\n",
    "El código del cuerpo del bucle se ejecuta...\n",
    "- un número específico de veces\n",
    "- una vez para cada uno de una colección de elementos\n",
    "- hasta que se cumpla alguna condición\n",
    "- indefinidamente\n",
    "\n",
    "En Python, se pueden implementar los bucles: <code>while</code> y <code>for</code>."
   ],
   "metadata": {}
  },
  {
   "cell_type": "markdown",
   "source": [
    "## Bucle `while`"
   ],
   "metadata": {}
  },
  {
   "cell_type": "markdown",
   "source": [
    "- Ejecuta una secuencia de acciones __mientras la evaluación de una condición sea verdadera__. \n",
    "- __La condición es evaluada antes de cada vez__ que se ejecuta el cuerpo del ciclo o iteración."
   ],
   "metadata": {}
  },
  {
   "cell_type": "markdown",
   "source": [
    "![Diagrama de flujo bucle while](./img/while.svg)"
   ],
   "metadata": {}
  },
  {
   "cell_type": "markdown",
   "source": [
    "En el siguiente ejemplo, el programa muestra (imprime) todos los numeros enteros menores que 10."
   ],
   "metadata": {}
  },
  {
   "cell_type": "code",
   "execution_count": null,
   "source": [
    "n = 0\n",
    "while n < 10:\n",
    "    n += 1\n",
    "    print(n)\n",
    "\n",
    "# flujo normal"
   ],
   "outputs": [],
   "metadata": {
    "scrolled": true,
    "tags": []
   }
  },
  {
   "cell_type": "markdown",
   "source": [
    "Seguimiento (ejecución manual) del algoritmo"
   ],
   "metadata": {}
  },
  {
   "cell_type": "markdown",
   "source": [
    "|n       | salida|\n",
    "|:---:|:---:|\n",
    "|0||\n",
    "|0+1=1||\n",
    "||     1    |\n",
    "|1+1=2 ||\n",
    "||         2|\n",
    "|2+1=3||\n",
    "||         3|\n",
    "|:||\n",
    "|.||\n",
    "|8+1=9||\n",
    "||         9|\n",
    "|9+1=10||\n",
    "||        10|"
   ],
   "metadata": {}
  },
  {
   "cell_type": "markdown",
   "source": [
    "### Ejercicio"
   ],
   "metadata": {}
  },
  {
   "cell_type": "markdown",
   "source": [
    "E1. Diseñar un algoritmo que muestre (imprimir) todos los números enteros múltiplos de 2 que existen entre dos números ingresados por el usuario."
   ],
   "metadata": {}
  },
  {
   "cell_type": "markdown",
   "source": [
    "#### Solución __(5 minutos)__"
   ],
   "metadata": {}
  },
  {
   "cell_type": "code",
   "execution_count": null,
   "source": [
    "# multiplosdedos.py (5 min)\n",
    "# supuesto: primero se ingresa el valor menor.\n",
    "# entradas\n",
    "\n",
    "a = int(input('ingrese el numero menor: '))\n",
    "b = int(input('ingrese el numero mayor: '))\n",
    "\n",
    "# e.g., si a=2 y b=5; imprimir {4}\n",
    "# Paso 1:  a+1 ; evaluar el valor 3; es par? si es par, imprimir\n",
    "# Paso 2:  a+2 ; evaluar el valor 4; es par? si es par, imprimir\n",
    "\n",
    "# e.g., si a=1 y b=7; imprimir {2,4,6}\n",
    "# Paso 1: a+1 ; evaluar 2; es par? si es par, imprimir 2\n",
    "# Paso 2: a+2 ; evaluar 3; es par? no es par\n",
    "# Paso 3: a+3 ; evaluar 4; es par? si es par, imprimir 4\n",
    "# Paso 4: a+4 ; evaluar 5; es par? no es par\n",
    "\n",
    "\n",
    "# e.g., si a=4 y b=1; imprimir {}\n",
    "# e.g., si a=4 y b=4; imprimir {}\n",
    "\n",
    "# logica de resolucion\n",
    "while a < (b-1):\n",
    "    a += 1\n",
    "    if a%2 == 0: # a=3; 3/2 = 1; resto = 1\n",
    "        print(a)\n",
    "# flujo normal"
   ],
   "outputs": [],
   "metadata": {}
  },
  {
   "cell_type": "markdown",
   "source": [
    "Verificación del algoritmo\n",
    "- Datos de prueba: 1 y 4\n",
    "- Seguimiento (ejecución manual) del algoritmo\n",
    "\n",
    "|a  |  b  | salida|\n",
    "|:---:|:---:|:---:|\n",
    "|1|||\n",
    "||        4||\n",
    "|1+1=2|||\n",
    "|||                2|\n",
    "|2+1=3|||"
   ],
   "metadata": {}
  },
  {
   "cell_type": "markdown",
   "source": [
    "2. Modifica el algoritmo anterior de forma tal que no exitan restricciones con el orden de los datos de entrada."
   ],
   "metadata": {}
  },
  {
   "cell_type": "code",
   "execution_count": null,
   "source": [
    "# entradas\n",
    "a = int(input('ingrese valor A: '))\n",
    "b = int(input('ingrese valor B: '))\n",
    "\n",
    "# trate con el orden de las entradas\n",
    "# Identificar cual de los valores ingresados es menor y asignarlo a la variable\n",
    "# a. Por lo tanto, el valor mayor debe quedar asignado a la variable b.\n",
    "\n",
    "# intercambio de valores entre variables => a < b\n",
    "if b < a:\n",
    "    temp = a\n",
    "    a = b\n",
    "    b = temp\n",
    "\n",
    "# identifica multiplos de dos entre a y b, condicion a < b\n",
    "while a < (b-1):\n",
    "    a += 1\n",
    "    if a%2 == 0:\n",
    "        # salidas\n",
    "        print(a)"
   ],
   "outputs": [],
   "metadata": {}
  },
  {
   "cell_type": "markdown",
   "source": [
    "## Bucle `for`"
   ],
   "metadata": {}
  },
  {
   "cell_type": "markdown",
   "source": [
    "Sentencia de control de flujo que <strong>permite especificar la cantidad de veces que se realiza una iteración</strong>."
   ],
   "metadata": {}
  },
  {
   "cell_type": "markdown",
   "source": [
    "![Diagrma de flujo bucle for](./img/for.svg)"
   ],
   "metadata": {}
  },
  {
   "cell_type": "markdown",
   "source": [
    "En Python, el bucle `for`... \n",
    "\n",
    "- Repite una porción código para todo elemento de una serie de valores, por ejemplo, `0, 1, 2,..., n`.\n",
    "- Cada valor de la serie es asignado a la __variable de control__ para cada una de las iteraciones, por medio del operador `in`.\n",
    "- El operador `in` es el __operador pertenencia__ en Python. Permite comprobar si un valor o variable pertenece en una secuencia (e.g. cadenas, listas, tuplas)."
   ],
   "metadata": {}
  },
  {
   "cell_type": "markdown",
   "source": [
    "#### Ejemplo\n",
    "\n",
    "El siguiente ejemplo imprime los valores del cero al cuatro, es decir, se ejecuta la sentencia `print` cinco veces."
   ],
   "metadata": {}
  },
  {
   "cell_type": "code",
   "execution_count": null,
   "source": [
    "for i in range(0, 5, 1): # [0,1,2,3,4]\n",
    "    print(i)"
   ],
   "outputs": [],
   "metadata": {
    "tags": []
   }
  },
  {
   "cell_type": "markdown",
   "source": [
    "Seguimiento (ejecución manual) del algoritmo"
   ],
   "metadata": {}
  },
  {
   "cell_type": "markdown",
   "source": [
    "|i      |Salidas|\n",
    "|:---:  |:---:  |\n",
    "|0      |       |\n",
    "||            0 |\n",
    "|0+1=1  ||\n",
    "|       |       1|\n",
    "|1+1=2  ||\n",
    "|       |       2|\n",
    "|2+1=3  ||\n",
    "|       |       3|\n",
    "|3+1=4  ||\n",
    "|       |       4|\n",
    "|4+1=5  ||\n"
   ],
   "metadata": {}
  },
  {
   "cell_type": "markdown",
   "source": [
    "### Tipo `range`"
   ],
   "metadata": {}
  },
  {
   "cell_type": "markdown",
   "source": [
    "El objeto `range` ([...](https://docs.python.org/3/library/stdtypes.html#range)) es un tipo de dato que representa una __secuencia inmutable de números__, usada comúnmente para definir bucles `for`.\n",
    "\n",
    "La función `range(start, stop, step)` recibe como argumento el valor inicial `start`, el valor final `stop` y el incremento `step`, de la serie respectivamente.\n",
    "\n",
    "El contenido del objeto `range` es determinado por `r[i] = start + step*i`, con la condición `i >= 0` y\n",
    "\n",
    "- `r[i] < stop` para incrementos positivos, y\n",
    "- `r[i] > stop` para incrementos negativos.\n",
    "\n",
    "Los valores por defecto son `start = 0` y `step = 1`. Por lo tanto, también puede definirse de la forma `range(stop)`.\n",
    "\n",
    "En consecuencia, la sentencia de control `for` para la ejecución de 10 pasos, en la cuál se imprimer la cuenta regresiva desde el `10` hasta `1` se puede definir como:"
   ],
   "metadata": {}
  },
  {
   "cell_type": "code",
   "execution_count": null,
   "source": [
    "for i in range(10, 0, -1): # [10,9,8,7,...,1]\n",
    "    print(i)"
   ],
   "outputs": [],
   "metadata": {
    "tags": []
   }
  },
  {
   "cell_type": "markdown",
   "source": [
    "## Ejercicio 1"
   ],
   "metadata": {}
  },
  {
   "cell_type": "markdown",
   "source": [
    "Antes de su ejecución, es importante identificar (manualmente) cuál es la función del código. Entonces, ¿Qué hace el siguiente programa? "
   ],
   "metadata": {}
  },
  {
   "cell_type": "code",
   "execution_count": null,
   "source": [
    "n = int(input('Ingrese una cifra: '))\n",
    "\n",
    "while n > 0:\n",
    "    d = n % 10\n",
    "    print(d)\n",
    "    n = n // 10"
   ],
   "outputs": [],
   "metadata": {}
  },
  {
   "cell_type": "markdown",
   "source": [
    "_Puedes utilizar una tabla de seguimiento para identificar cual es la función del programa._"
   ],
   "metadata": {}
  },
  {
   "cell_type": "markdown",
   "source": [
    "#### Solución (5 min.)"
   ],
   "metadata": {}
  },
  {
   "cell_type": "markdown",
   "source": [
    "El programa muestra, de forma separada y en orden inverso, los dígitos de una cifra ingresada por el usuario."
   ],
   "metadata": {}
  },
  {
   "cell_type": "markdown",
   "source": [
    "## Ejercicio 2"
   ],
   "metadata": {}
  },
  {
   "cell_type": "markdown",
   "source": [
    "E2. La representación tradicional de una tabla de multiplicar, por ejemplo, para su memorización, como su propio nombre indica se presenta en forma de tabla​. En esta, se multiplica, del uno al diez o del cero al diez, un número específico. \n",
    "\n",
    "La siguiente corresponde a la tabla del 3.\n",
    "\n",
    "```\n",
    "    3 x 0 = 0\n",
    "    3 x 1 = 3\n",
    "    3 x 2 = 6\n",
    "    3 x 3 = 9\n",
    "    3 x 4 = 12\n",
    "    3 x 5 = 15\n",
    "    3 x 6 = 18\n",
    "    3 x 7 = 21\n",
    "    3 x 8 = 24\n",
    "    3 x 9 = 27\n",
    "    3 x 10 = 30\n",
    "```\n",
    "\n",
    "\n",
    "Diseñar un programa que imprima la tabla presentada anteriormente."
   ],
   "metadata": {}
  },
  {
   "cell_type": "markdown",
   "source": [
    "#### Solución (5 min.)"
   ],
   "metadata": {}
  },
  {
   "cell_type": "code",
   "execution_count": 18,
   "source": [
    "# Version con bucle infinito\n",
    "\n",
    "i = 0\n",
    "while i < 11:\n",
    "    print(f'3 x {i} = {3 * i}')\n",
    "    i += 1"
   ],
   "outputs": [
    {
     "output_type": "stream",
     "name": "stdout",
     "text": [
      "3 x 0 = 0\n",
      "3 x 1 = 3\n",
      "3 x 2 = 6\n",
      "3 x 3 = 9\n",
      "3 x 4 = 12\n",
      "3 x 5 = 15\n",
      "3 x 6 = 18\n",
      "3 x 7 = 21\n",
      "3 x 8 = 24\n",
      "3 x 9 = 27\n",
      "3 x 10 = 30\n"
     ]
    }
   ],
   "metadata": {}
  },
  {
   "cell_type": "code",
   "execution_count": 19,
   "source": [
    "# Versión con bucle finito\n",
    "for i in range(11):\n",
    "    print(f'3 x {i} = {3 * i}')"
   ],
   "outputs": [
    {
     "output_type": "stream",
     "name": "stdout",
     "text": [
      "3 x 0 = 0\n",
      "3 x 1 = 3\n",
      "3 x 2 = 6\n",
      "3 x 3 = 9\n",
      "3 x 4 = 12\n",
      "3 x 5 = 15\n",
      "3 x 6 = 18\n",
      "3 x 7 = 21\n",
      "3 x 8 = 24\n",
      "3 x 9 = 27\n",
      "3 x 10 = 30\n"
     ]
    }
   ],
   "metadata": {}
  }
 ],
 "metadata": {
  "interpreter": {
   "hash": "b28515e4b762c096acf07038d3ee3c15931ad16d0940885c685d67d53c3751a1"
  },
  "kernelspec": {
   "display_name": "Python 3.8.5 64-bit ('base': conda)",
   "name": "python3"
  },
  "language_info": {
   "codemirror_mode": {
    "name": "ipython",
    "version": 3
   },
   "file_extension": ".py",
   "mimetype": "text/x-python",
   "name": "python",
   "nbconvert_exporter": "python",
   "pygments_lexer": "ipython3",
   "version": "3.8.8"
  }
 },
 "nbformat": 4,
 "nbformat_minor": 2
}