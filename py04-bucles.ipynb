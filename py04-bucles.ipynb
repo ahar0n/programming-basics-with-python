{
 "cells": [
  {
   "cell_type": "markdown",
   "metadata": {},
   "source": [
    "# Bucles\n",
    "\n",
    "### Contenidos\n",
    "\n",
    "1. Bucle controlado por condición: `while`\n",
    "2. Bucle controlado por contador: `for`\n",
    "\n",
    "<hr>"
   ]
  },
  {
   "cell_type": "markdown",
   "metadata": {},
   "source": [
    "Un bucle es una __secuencia de sentencias que se especifican una vez pero que puede ejecutarse repetidas veces__. \n",
    "\n",
    "El código del cuerpo del bucle se ejecuta...\n",
    "- un número específico de veces\n",
    "- una vez para cada uno de una colección de elementos\n",
    "- hasta que se cumpla alguna condición\n",
    "- indefinidamente\n",
    "\n",
    "En Python, se pueden implementar los bucles: <code>while</code> y <code>for</code>."
   ]
  },
  {
   "cell_type": "markdown",
   "metadata": {},
   "source": [
    "## Bucle `while`\n",
    "\n",
    "- Ejecuta una secuencia de acciones __mientras la evaluación de una condición sea verdadera__. \n",
    "- __La condición es evaluada antes de cada vez__ que se ejecuta el cuerpo del ciclo o iteración.\n",
    "\n",
    "![Diagrama de flujo bucle while](./img/while.svg)\n",
    "\n",
    "En el siguiente ejemplo, el programa muestra (imprime) todos los numeros enteros menores que 10."
   ]
  },
  {
   "cell_type": "code",
   "execution_count": null,
   "metadata": {
    "scrolled": true,
    "tags": []
   },
   "outputs": [],
   "source": [
    "n = 0\n",
    "while n < 10:\n",
    "    n += 1\n",
    "    print(n)"
   ]
  },
  {
   "cell_type": "markdown",
   "metadata": {},
   "source": [
    "|n       | salida|\n",
    "|:---:|:---:|\n",
    "|0|\n",
    "|0+1=1||\n",
    "||     1    |\n",
    "|1+1=2 ||\n",
    "||         2|\n",
    "|2+1=3||\n",
    "||         3|\n",
    "|:||\n",
    "|.||\n",
    "|8+1=9||\n",
    "||         9|\n",
    "|9+1=10||\n",
    "||        10|"
   ]
  },
  {
   "cell_type": "markdown",
   "metadata": {},
   "source": [
    "### Ejercicios\n",
    "1. Diseña un algoritmo que muestre (imprimir) todos los números enteros múltiplos de 2 que existen entre dos números ingresados por el usuario."
   ]
  },
  {
   "cell_type": "code",
   "execution_count": null,
   "metadata": {},
   "outputs": [],
   "source": [
    "# multiplosdedos.py (5 min)\n",
    "# supuesto: primero si ingresa el valor menor.\n",
    "# entradas\n",
    "a = int(input('ingrese el numero menor: '))\n",
    "b = int(input('ingrese el numero mayor: '))\n",
    "\n",
    "# a = 5 y b = 10 => {6,..., 9}\n",
    "while a < (b-1):\n",
    "    a += 1\n",
    "    if a%2 == 0:\n",
    "        print(a)"
   ]
  },
  {
   "cell_type": "markdown",
   "metadata": {},
   "source": [
    "|a  |  b  | salida|\n",
    "|:---:|:---:|:---:|\n",
    "|1|||\n",
    "||        4||\n",
    "|1+1=2|||\n",
    "|||                2|\n",
    "|2+1=3|||\n",
    "|3+1=4|||\n",
    "|||               4?|"
   ]
  },
  {
   "cell_type": "markdown",
   "metadata": {},
   "source": [
    "2. Modifica el algoritmo anterior de forma tal que no exitan restricciones con el orden de los datos de entrada."
   ]
  },
  {
   "cell_type": "code",
   "execution_count": null,
   "metadata": {},
   "outputs": [],
   "source": [
    "# multiplosdedos_v2.py (5 min)"
   ]
  },
  {
   "cell_type": "markdown",
   "metadata": {},
   "source": [
    "## Bucle `for`\n",
    "\n",
    "- Sentencia de control de flujo que <strong>permite especificar la cantidad de veces que se realiza una iteración</strong>."
   ]
  },
  {
   "cell_type": "markdown",
   "metadata": {},
   "source": [
    "![Diagrma de flujo bucle for](./img/for.svg)"
   ]
  },
  {
   "cell_type": "markdown",
   "metadata": {},
   "source": [
    "En Python, el bucle `for`... \n",
    "\n",
    "- Repite una porción código para todo elemento de una serie de valores, por ejemplo, `0, 1, 2,..., n`.\n",
    "- Cada valor de la serie es asignado a la __variable de control__, para cada una de las iteraciones, por medio del operador `in`.\n",
    "- El operador `in` es el __operador pertenencia__ en Python. Permite comprobar si un valor o variable se pertenece en una secuencia (e.g. cadenas).\n",
    "\n",
    "El siguiente ejemplo imprime los valores del cero al cuatro, es decir, se ejecuta la sentencia `print` cinco veces."
   ]
  },
  {
   "cell_type": "code",
   "execution_count": 2,
   "metadata": {
    "tags": []
   },
   "outputs": [
    {
     "output_type": "stream",
     "name": "stdout",
     "text": "0\n1\n2\n3\n4\n"
    }
   ],
   "source": [
    "for i in range(0, 5, 1):\n",
    "    print(i)"
   ]
  },
  {
   "cell_type": "markdown",
   "metadata": {},
   "source": [
    "Seguimiento (ejecución manual) del algoritmo\n",
    "\n",
    "|i      |Salidas|\n",
    "|:---:  |:---:  |\n",
    "|0      |       |\n",
    "||            0 |\n",
    "|0+1=1  ||\n",
    "|       |       1|\n",
    "|1+1=2  ||\n",
    "|       |       2|\n",
    "|2+1=3  ||\n",
    "|       |       3|\n",
    "|3+1=4  ||\n",
    "|       |       4|\n",
    "|4+1=5  ||\n"
   ]
  },
  {
   "cell_type": "markdown",
   "metadata": {},
   "source": [
    "### Tipo `range`\n",
    "\n",
    "El objeto `range` ([...](https://docs.python.org/3/library/stdtypes.html#range)) es un tipo de dato que representa una __secuencia inmutable de números__, usada comúnmente para definir bucles `for`.\n",
    "\n",
    "La función `range(start, stop, step)` recibe como argumento el valor inicial `start`, el valor final `stop` y el incremento `step`, de la serie respectivamente.\n",
    "\n",
    "El contenido del objeto `range` es determinado por `r[i] = start + step*i`, con la condición `i >= 0` y\n",
    "\n",
    "- `r[i] < stop` para incrementos positivos, y\n",
    "- `r[i] > stop` para incrementos negativos.\n",
    "\n",
    "Los valores por defecto son `start = 0` y `step = 1`. Por lo tanto, también puede definirse de la forma `range(stop)`.\n",
    "\n",
    "En consecuencia, la sentencia de control `for` para la ejecución de 10 pasos, en la cuál se imprimer la cuenta regresiva desde el `10` hasta `1` se puede definir como:"
   ]
  },
  {
   "cell_type": "code",
   "execution_count": 5,
   "metadata": {
    "tags": []
   },
   "outputs": [
    {
     "output_type": "stream",
     "name": "stdout",
     "text": "10\n9\n8\n7\n6\n5\n4\n3\n2\n1\n"
    }
   ],
   "source": [
    "for i in range(10, 0, -1):\n",
    "    print(i)"
   ]
  },
  {
   "cell_type": "markdown",
   "metadata": {},
   "source": [
    "### Ejercicio\n",
    "\n",
    "Realiza el análisis del siguiente programa. Puedes utilizar una tabla de seguimiento para identificar cual es la función del programa."
   ]
  },
  {
   "cell_type": "code",
   "execution_count": null,
   "metadata": {
    "tags": []
   },
   "outputs": [],
   "source": [
    "n = int(input('Ingrese una cifra: '))\n",
    "while n > 0:\n",
    "    d = n % 10\n",
    "    print(d)\n",
    "    n = n // 10"
   ]
  }
 ],
 "metadata": {
  "kernelspec": {
   "display_name": "Python 3",
   "language": "python",
   "name": "python3"
  },
  "language_info": {
   "codemirror_mode": {
    "name": "ipython",
    "version": 3
   },
   "file_extension": ".py",
   "mimetype": "text/x-python",
   "name": "python",
   "nbconvert_exporter": "python",
   "pygments_lexer": "ipython3",
   "version": "3.7.6-final"
  }
 },
 "nbformat": 4,
 "nbformat_minor": 2
}