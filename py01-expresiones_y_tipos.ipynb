{
 "cells": [
  {
   "cell_type": "markdown",
   "metadata": {},
   "source": [
    "# Expresiones y tipos básicos\n",
    "### Contenidos\n",
    "\n",
    "1. Expresiones y tipo de dato\n",
    "1. Números y operadores aritméticos\n",
    "1. Lógicos, operadores lógicos y comparadores\n",
    "1. Cadenas y peradores de secuencias\n",
    "1. Nulos\n",
    "1. Variables\n",
    "1. Asignación y operadores compuestos"
   ]
  },
  {
   "cell_type": "markdown",
   "metadata": {},
   "source": [
    "\n",
    "## Conceptos básicos\n",
    "### Expresión\n",
    "Es una combinación de valores y operaciones que, al ser evaluados, entregan un valor como resultado. Este resultado dependerá de los elementos que componen la expresión:\n",
    "\n",
    "- __Literales__, valores constantes de algún tipo (e.g. números, cadenas de texto) incorporado en el lenguaje [(...)]((https://docs.python.org/3/reference/lexical_analysis.html#literals))\n",
    "- __Operadores__, símbolos en una expresión que representan una operación aplicada a los valores sobre los que actúa, estos últimos se denominan operandos. Un operador binario tiene dos operandos, mientras que un operador unario tiene solo uno [(...)]((https://docs.python.org/3/reference/lexical_analysis.html#operators))\n",
    "- __Variables__, ubicaciones de almacenamiento asociada con un nombre simbólico (identificador), que contiene una cantidad conocida o desconocida (valor). El identificador puede estar asociado a un valor durante el tiempo de ejecución, el cual puede cambiar durante la ejecución del programa.\n",
    "- __Funciones__, bloque de código organizado y reutilizable que se utiliza para realizar una sola acción.\n",
    "\n",
    "### Tipo dato\n",
    "Es la propiedad de un valor que determina su dominio, que operaciones soportan y como se representan. En Python se pueden distinguir los siguientes __tipos básicos__ de datos: \n",
    "- Números\n",
    "- Lógicos\n",
    "- Cadenas\n",
    "- Nulos"
   ]
  },
  {
   "cell_type": "markdown",
   "metadata": {},
   "source": [
    "## Números\n",
    "\n",
    "### ```int```\n",
    "- Permiten representar __números enteros__. \n",
    "- No tienen componente fraccionaria y pueden ser positivos o negativos. \n",
    "- Para distinguir entre positivos y negativos pueden ser precedidos de su signo."
   ]
  },
  {
   "cell_type": "code",
   "execution_count": 3,
   "metadata": {},
   "outputs": [
    {
     "output_type": "execute_result",
     "data": {
      "text/plain": "int"
     },
     "metadata": {},
     "execution_count": 3
    }
   ],
   "source": [
    "type(3) # La función type() retorna el tipo de dato de su argumento."
   ]
  },
  {
   "cell_type": "markdown",
   "metadata": {},
   "source": [
    "### ```float```\n",
    "- Permite representar __números reales__. \n",
    "- Proviene del término <em><a href=\"https://es.wikipedia.org/wiki/Coma_flotante\">floating point</a></em> que es la forma en que el computador representa internamente los números reales."
   ]
  },
  {
   "cell_type": "code",
   "execution_count": 6,
   "metadata": {},
   "outputs": [
    {
     "output_type": "execute_result",
     "data": {
      "text/plain": "float"
     },
     "metadata": {},
     "execution_count": 6
    }
   ],
   "source": [
    "type(-0.765) # Este tipo de dato en otro lenguajes se denomina double o flotante"
   ]
  },
  {
   "cell_type": "markdown",
   "metadata": {},
   "source": [
    "### ```complex```\n",
    "- Permite representar __números complejos__. \n",
    "- Se componen de una parte real y una imaginaria, esta última es acompañada del caracter <code>j</code>."
   ]
  },
  {
   "cell_type": "code",
   "execution_count": 7,
   "metadata": {},
   "outputs": [
    {
     "output_type": "execute_result",
     "data": {
      "text/plain": "complex"
     },
     "metadata": {},
     "execution_count": 7
    }
   ],
   "source": [
    "type(2+9j)"
   ]
  },
  {
   "cell_type": "markdown",
   "metadata": {},
   "source": [
    "### Operadores aritméticos\n",
    "- Operan valores numéricos y retornan valores númericos. \n",
    "- El tipo de dato del resultado obtenido de una operación aritmética dependerá del tipo de valor operado."
   ]
  },
  {
   "cell_type": "markdown",
   "metadata": {},
   "source": [
    "| Operación | Símbolo | Aridad | Asociatividad | Prioridad |\n",
    "|   :--     | :--:    |:--     | :--           | :--:      |\n",
    "|Exponenciación | **  |\tBinario |\tDerecha |\t1|\n",
    "|Identidad      | +   |\tUnario  |\t-   |\t2|\n",
    "|Cambio de signo| -   |\tUnario  |\t-   |\t2|\n",
    "|Multiplicación | *     |\tBinario |\tIzquierda   |\t3|\n",
    "|División       | /     |\tBinario |\tIzquierda   |\t3|\n",
    "|Módulo\t        | %     |   Binario |\tIzquierda   |\t3|\n",
    "|Suma           | +     |\tBinario |\tIzquierda   |\t4|\n",
    "|Resta          | -     |\tBinario |\tIzquierda   |\t4|\n",
    "|División entera| //    |\tBinario |\tIzquierda   |\t4|\n"
   ]
  },
  {
   "cell_type": "markdown",
   "metadata": {},
   "source": [
    "**IMPORTANTE:** Cuando se operan datos cuyo resultado es de tipo ```float```, estos __no se representan de forma exacta__. Por ejemplo, el resultado de la siguiente operación expresada a partir de dos expresiones distintas:"
   ]
  },
  {
   "cell_type": "code",
   "execution_count": 8,
   "metadata": {},
   "outputs": [
    {
     "output_type": "execute_result",
     "data": {
      "text/plain": "1.2"
     },
     "metadata": {},
     "execution_count": 8
    }
   ],
   "source": [
    "2 * 3 / 5"
   ]
  },
  {
   "cell_type": "code",
   "execution_count": 9,
   "metadata": {},
   "outputs": [
    {
     "output_type": "execute_result",
     "data": {
      "text/plain": "1.2000000000000002"
     },
     "metadata": {},
     "execution_count": 9
    }
   ],
   "source": [
    "2 / 5 * 3"
   ]
  },
  {
   "cell_type": "markdown",
   "metadata": {},
   "source": [
    "## Lógicos (```bool```)\n",
    "- Permite representar valores de la lógica binaria: ```True``` y ```False```. "
   ]
  },
  {
   "cell_type": "code",
   "execution_count": 11,
   "metadata": {},
   "outputs": [
    {
     "output_type": "execute_result",
     "data": {
      "text/plain": "bool"
     },
     "metadata": {},
     "execution_count": 11
    }
   ],
   "source": [
    "type(True)"
   ]
  },
  {
   "cell_type": "markdown",
   "metadata": {},
   "source": [
    "### Operadores lógicos\n",
    "- Estos operadores retornan como resultado valores de tipo ```bool```. \n",
    "- En Python hay tres operaciones lógicas:"
   ]
  },
  {
   "cell_type": "markdown",
   "metadata": {},
   "source": [
    "| Operación | Símbolo   | Aridad    | Asociatividad | Prioridad |\n",
    "|   :--     | :--:      | :--       | :--           | :--:      |\n",
    "|Negación   | not       | Unario    | -             | 6 |\n",
    "|Conjunción | and       | Binario   | Izquierda     | 7 |\n",
    "|Disyunción | or        | Binario   | Izquierda     | 8 |"
   ]
  },
  {
   "cell_type": "code",
   "execution_count": 14,
   "metadata": {},
   "outputs": [
    {
     "output_type": "execute_result",
     "data": {
      "text/plain": "bool"
     },
     "metadata": {},
     "execution_count": 14
    }
   ],
   "source": [
    "type(not False and True or False)"
   ]
  },
  {
   "cell_type": "markdown",
   "metadata": {},
   "source": [
    "### Operadores relacionales\n",
    "- Son utilizados para comparar valores. \n",
    "- El operando puede ser de cualquier tipo que pueda ser comparado y el resultado siempre son de tipo <code>bool</code>."
   ]
  },
  {
   "cell_type": "markdown",
   "metadata": {},
   "source": [
    "| Operación | Símbolo   | Aridad    | Asociatividad | Prioridad |\n",
    "|   :--     | :--:      | :--       | :--           | :--:      |\n",
    "|Igual que\t| ==\t| Binario\t| -\t| 5|\n",
    "|Distinto que\t| !=\t| Binario\t| -\t| 5|\n",
    "|Menor que\t| <\t| Binario\t| -\t| 5|\n",
    "|Menor o igual que\t| <=\t| Binario\t| -\t| 5|\n",
    "|Mayor que\t| >\t| Binario\t| -\t| 5|\n",
    "|Mayor o igual que\t| >=\t| Binario\t| -\t| 5|"
   ]
  },
  {
   "cell_type": "markdown",
   "metadata": {},
   "source": [
    "<p>Cuando aparece una sucesión de comparadores, por ejemplo:</p>"
   ]
  },
  {
   "cell_type": "code",
   "execution_count": 15,
   "metadata": {},
   "outputs": [
    {
     "output_type": "execute_result",
     "data": {
      "text/plain": "False"
     },
     "metadata": {},
     "execution_count": 15
    }
   ],
   "source": [
    "2 > 4 < 7"
   ]
  },
  {
   "cell_type": "markdown",
   "metadata": {},
   "source": [
    "Python lo evalúa como si se tratasen de comparadores operados por el operador lógico ```and```:"
   ]
  },
  {
   "cell_type": "code",
   "execution_count": null,
   "metadata": {},
   "outputs": [],
   "source": [
    "2 > 4 and 4 < 7"
   ]
  },
  {
   "cell_type": "markdown",
   "metadata": {},
   "source": [
    "## Cadenas\n",
    "- Es una __secuencia inmutable__ de uno o más caracteres (letras, números, símbolos).\n",
    "- Pueden ser representados por medio de comillas simples o dobles."
   ]
  },
  {
   "cell_type": "code",
   "execution_count": 17,
   "metadata": {},
   "outputs": [
    {
     "output_type": "execute_result",
     "data": {
      "text/plain": "str"
     },
     "metadata": {},
     "execution_count": 17
    }
   ],
   "source": [
    "type(\"Esto es una cadena de texto entre comillas simples!\")"
   ]
  },
  {
   "cell_type": "markdown",
   "metadata": {},
   "source": [
    "Las cadenas de texto no son lo mismo que los valores representan. Además difieren de mayúsculas y minúsculas o en espacios:"
   ]
  },
  {
   "cell_type": "code",
   "execution_count": 18,
   "metadata": {},
   "outputs": [
    {
     "output_type": "execute_result",
     "data": {
      "text/plain": "False"
     },
     "metadata": {},
     "execution_count": 18
    }
   ],
   "source": [
    "1 == '1'"
   ]
  },
  {
   "cell_type": "code",
   "execution_count": 19,
   "metadata": {},
   "outputs": [
    {
     "output_type": "execute_result",
     "data": {
      "text/plain": "False"
     },
     "metadata": {},
     "execution_count": 19
    }
   ],
   "source": [
    "'casa' == 'Casa'"
   ]
  },
  {
   "cell_type": "markdown",
   "metadata": {},
   "source": [
    "Los operadores de secuencias permite realizar algunas operaciones entre secuencias. Algunos operadores básicos:"
   ]
  },
  {
   "cell_type": "markdown",
   "metadata": {},
   "source": [
    "| Operación | Símbolo |\n",
    "| :--       | :--:|\n",
    "| Anidar    | + |\n",
    "| Repetir   |  ∗ |\n",
    "| Pertenencia  | in |"
   ]
  },
  {
   "cell_type": "markdown",
   "metadata": {},
   "source": [
    "La operación anidar permite concatenar secuencias:"
   ]
  },
  {
   "cell_type": "code",
   "execution_count": 20,
   "metadata": {},
   "outputs": [
    {
     "output_type": "execute_result",
     "data": {
      "text/plain": "'automovil'"
     },
     "metadata": {},
     "execution_count": 20
    }
   ],
   "source": [
    "'auto' + 'movil'"
   ]
  },
  {
   "cell_type": "markdown",
   "metadata": {},
   "source": [
    "La operación repetir permite concatenar copias de la misma secuencias:"
   ]
  },
  {
   "cell_type": "code",
   "execution_count": 21,
   "metadata": {},
   "outputs": [
    {
     "output_type": "execute_result",
     "data": {
      "text/plain": "'jajaja'"
     },
     "metadata": {},
     "execution_count": 21
    }
   ],
   "source": [
    "'ja' * 3"
   ]
  },
  {
   "cell_type": "markdown",
   "metadata": {},
   "source": [
    "El operador ```in``` permite comprobar si un valor o variable pertenece a una secuencia. \n",
    "- Es un operador binario con asociatividad por la derecha. \n",
    "- Pede ser utilizado en conjunto con el operador ```not``` lo que permite comprobar si elemento no pertenece a una secuencia."
   ]
  },
  {
   "cell_type": "code",
   "execution_count": 1,
   "metadata": {},
   "outputs": [
    {
     "output_type": "execute_result",
     "data": {
      "text/plain": "True"
     },
     "metadata": {},
     "execution_count": 1
    }
   ],
   "source": [
    "'ojo' in 'anteojo'"
   ]
  },
  {
   "cell_type": "markdown",
   "metadata": {},
   "source": [
    "## Nulo (```NoneType```)\n",
    "- En Python el valor ```None``` es __utilizado para representar casos en que ningún valor es válido__ o para __indicar que una variable no tiene un valor que tenga sentido__. \n",
    "- El ```None```, tiene su propio tipo ```NoneType```."
   ]
  },
  {
   "cell_type": "code",
   "execution_count": 2,
   "metadata": {},
   "outputs": [
    {
     "output_type": "execute_result",
     "data": {
      "text/plain": "NoneType"
     },
     "metadata": {},
     "execution_count": 2
    }
   ],
   "source": [
    "type(None)"
   ]
  },
  {
   "cell_type": "markdown",
   "metadata": {},
   "source": [
    "## Asignación\n",
    "\n",
    "- La asignación es una __sentencia que asocia un nombre al resultado de una expresión__. \n",
    "- El nombre del valor es denominado __variable__.\n",
    "\n",
    "La asignación en Python, se realiza por medio del operadore de asignación:"
   ]
  },
  {
   "cell_type": "code",
   "execution_count": 3,
   "metadata": {},
   "outputs": [],
   "source": [
    "c = 4"
   ]
  },
  {
   "cell_type": "markdown",
   "metadata": {},
   "source": [
    "- La expresión de la derecha del símbolo ```=``` es evaluada. \n",
    "- Una vez obtenido el resultado, el valor de la variable a la izquierda es reemplazado por ese resultado.\n",
    "\n",
    "Por lo tanto, es posible una asignación como la siguiente:"
   ]
  },
  {
   "cell_type": "code",
   "execution_count": 4,
   "metadata": {},
   "outputs": [],
   "source": [
    "c = c + 2"
   ]
  },
  {
   "cell_type": "markdown",
   "metadata": {},
   "source": [
    "__IMPORTANTE__: El nombre de una variable corresponde con su __identificador__ y, por lo tanto, debe cumplir con las reglas impuestas por Python para la construcción del identificador.\n",
    "\n",
    "Casos particulares de variables son: contadores y acumuladores."
   ]
  },
  {
   "cell_type": "markdown",
   "metadata": {},
   "source": [
    "### Contador\n",
    "Variable cuyo valor se __incrementa o disminuye de forma constante__ cada vez que se ejecuta una acción que lo contiene."
   ]
  },
  {
   "cell_type": "code",
   "execution_count": null,
   "metadata": {},
   "outputs": [],
   "source": [
    "i = 0\n",
    "c = 1\n",
    "i = i + c\n",
    "i = i + c"
   ]
  },
  {
   "cell_type": "markdown",
   "metadata": {},
   "source": [
    "### Acumulador\n",
    "Variable que permite almacenar valores que se __incrementan o disminuyen de forma no constante__ durante todo el proceso."
   ]
  },
  {
   "cell_type": "code",
   "execution_count": null,
   "metadata": {},
   "outputs": [],
   "source": [
    "a = 0\n",
    "a = a + 25\n",
    "a = a + 1"
   ]
  },
  {
   "cell_type": "markdown",
   "metadata": {},
   "source": [
    "### Operadores compuestos\n",
    "Los operadores compuestos de asignación que permiten modificar y asignar el valor de una misma variable."
   ]
  },
  {
   "cell_type": "markdown",
   "metadata": {},
   "source": [
    "|Simbolo| Ejemplo |\tEquivalencia |\n",
    "|:--:|:--:|:--:|\n",
    "|```+=``` | ```a += 2``` |\t```a = a + 2``` |\n",
    "|```-=``` | ```a -= 2``` |\t```a = a - 2``` |\n",
    "|```*=``` | ```a *= 2``` |\t```a = a * 2``` |\n",
    "|```/=``` | ```a /= 2``` |\t```a = a / 2``` |\n",
    "|```%=``` | ```a %= 2``` |\t```a = a % 2``` |\n",
    "|```**=``` | ```a **= 1``` |\t```a = a ** 1``` |\n",
    "|```//=``` | ```a //= 1``` |\t```a = a // 1``` |"
   ]
  }
 ],
 "metadata": {
  "kernelspec": {
   "display_name": "Python 3",
   "language": "python",
   "name": "python3"
  },
  "language_info": {
   "codemirror_mode": {
    "name": "ipython",
    "version": 3
   },
   "file_extension": ".py",
   "mimetype": "text/x-python",
   "name": "python",
   "nbconvert_exporter": "python",
   "pygments_lexer": "ipython3",
   "version": "3.7.6-final"
  }
 },
 "nbformat": 4,
 "nbformat_minor": 2
}