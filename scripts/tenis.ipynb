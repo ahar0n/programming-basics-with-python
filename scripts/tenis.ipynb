{
 "cells": [
  {
   "cell_type": "markdown",
   "source": [
    "# Marcador de tenis\n",
    "\n",
    "Un jugador de tenis obtiene el set si gana 6 juegos, pero además debe haber ganado por lo menos dos juegos más que su rival. Si el set está empatado a 5 juegos, el ganador es el primero que llegue a 7. Si el set está empatado a 6 juegos, el set se define en un Tie break, en cuyo caso el resultado final es 7-6.\n",
    "\n",
    "Diseñar un algoritmo que, a partir de los juegos ganados por dos jugadores A y B, muestre:\n",
    "\n",
    "- El jugador que ganó el set\n",
    "- El set está juego\n",
    "- El set se va tie break\n",
    "- Marcador inválido"
   ],
   "metadata": {}
  },
  {
   "cell_type": "markdown",
   "source": [
    "## Análisis\n",
    "\n",
    "Entradas: 2 números enteros.\n",
    "\n",
    "Salidas: Mensaje con resulta.\n",
    "\n",
    "Procesos:"
   ],
   "metadata": {}
  },
  {
   "cell_type": "code",
   "execution_count": 13,
   "source": [
    "a = int(input('Jugador A: '))\n",
    "b = int(input('Jugador B: '))\n",
    "\n",
    "diferencia = a - b\n",
    "\n",
    "if -2 < diferencia < 2:\n",
    "    if diferencia == 0 and b == 6:\n",
    "        marcador = 'se va tie break'\n",
    "    else:\n",
    "        marcador = 'set en juego'\n",
    "elif diferencia == 2:\n",
    "    marcador = 'gana A'\n",
    "elif diferencia == -2:\n",
    "    marcador = 'gana B'\n",
    "elif diferencia > 2 and a > 6:\n",
    "    marcador = 'marcador inválido'\n",
    "elif diferencia < -2 and b > 6:\n",
    "    marcador = 'marcador inválido'\n",
    "\n",
    "print(marcador)"
   ],
   "outputs": [
    {
     "output_type": "stream",
     "name": "stdout",
     "text": [
      "marcador inválido\n"
     ]
    }
   ],
   "metadata": {}
  }
 ],
 "metadata": {
  "orig_nbformat": 4,
  "language_info": {
   "name": "python"
  }
 },
 "nbformat": 4,
 "nbformat_minor": 2
}