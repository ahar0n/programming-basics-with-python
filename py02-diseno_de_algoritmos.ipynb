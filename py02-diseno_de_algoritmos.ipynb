{
 "cells": [
  {
   "cell_type": "markdown",
   "metadata": {},
   "source": [
    "# Diseño de algoritmos\n",
    "### Contenidos\n",
    "\n",
    "1. Diseño de algoritmos\n",
    "1. Representación gráfica de algoritmos\n",
    "1. Diseño de programas en Python\n",
    "1. Sentencias de entrada y salida\n",
    "1. Comentarios en el código\n",
    "1. Verificación, depuración y errores\n",
    "\n",
    "\n"
   ]
  },
  {
   "cell_type": "markdown",
   "metadata": {},
   "source": [
    "## Diseño de algoritmos\n",
    "*Etapas de la resolución de problemas por medio de la construcción de algoritmos*"
   ]
  },
  {
   "cell_type": "markdown",
   "metadata": {},
   "source": [
    "<img src=\"./img/diagrama-resolucion_de_problemas.svg\" width=\"500px\"/>"
   ]
  },
  {
   "cell_type": "markdown",
   "metadata": {},
   "source": [
    "El __análisis del problema__ debe dar respuesta a las siguiente interrogantes:\n",
    "\n",
    "- ¿Qué entradas se requieren? (tipo y cantidad)\n",
    "- ¿Cuál es la salida deseada? (tipo y cantidad)\n",
    "- ¿Qué método produce la salida deseada, a partir de las entradas?\n",
    "\n",
    "El __diseño del algoritmo__ debe generar como resultado:\n",
    "\n",
    "- Orden de realización de cada paso para resolver el problema.\n",
    "- Representación del algoritmo (p. ej., organigrama, código fuente).\n",
    "\n",
    "Un algoritmo es abstracto y requiere una __forma de representación__:\n",
    "\n",
    "- Organigrama (p. ej., diagrama de flujo, pseudocódigo) para comunicar la solución a otras personas.\n",
    "- Programa, código fuente que __implementa la solución en un sistema de computo__."
   ]
  },
  {
   "cell_type": "markdown",
   "metadata": {},
   "source": [
    "## Representación grafica del algoritmo\n",
    "\n",
    "- Un __diagram de flujo__ (_flowchart_) es una representación gráfica de un algoritmo. \n",
    "- La simbología está estandarizada por ANSI (_American National Standards Institute_)."
   ]
  },
  {
   "cell_type": "markdown",
   "metadata": {},
   "source": [
    "\n",
    "<img src=\"https://wcs.smartdraw.com/flowchart/img/simbolos-de-diagramas-de-flujo.png?bn=1510011165\" alt=\"Notación básica de diagramas de flujo\" width=\"350px\" title=\"Cortesia de Smartdraw.com\">"
   ]
  },
  {
   "cell_type": "markdown",
   "metadata": {},
   "source": [
    "## Diseño de algoritmos en Python\n",
    "\n",
    "Utilizando un __enfoque de programación imperativa__ (procedimientos), el algoritmo se representa por medio de un conjunto de sentencias del lenguaje de programación, de forma que cada una de ellas es una orden que indica al computador la realización de una tarea específica.\n",
    "\n",
    "Una __sentencia__ es el elemento independiente más pequeño de un lenguaje de programación imperativo que expresa alguna acción a realizar.\n",
    "\n",
    "Un programa está formado por una secuencia de una o más sentencias, la cual puede tener componentes internos, como por ejemplo, instrucciones, expresiones, entre otros.\n",
    "\n",
    "## Sentencia de entrada\n",
    "\n",
    "La función ```input()``` permiten al usuario ingresar datos al programa.\n",
    "- La función solicita al usuario __ingresar un dato__ que puede ser asignado a una variable.\n",
    "- El __argumento__ es el mensaje que se le muestra al usuario antes que ingrese el dato. \n",
    "- El __valor ingresado__ se interpreta como un dato de tipo ```str```."
   ]
  },
  {
   "cell_type": "code",
   "execution_count": null,
   "metadata": {},
   "outputs": [],
   "source": [
    "n = input('Ingrese un valor: ')\n",
    "type(n)n = input('Ingrese un valor: ')\n",
    "type(n)"
   ]
  },
  {
   "cell_type": "markdown",
   "metadata": {},
   "source": [
    "Si el dato ingresado es necesario usarlo como otro tipo, __debe ser convertido explícitamente__.\n",
    "- Sin embargo, si se ingresa caracteres que no tienen representación en el tipo de dato, se retornará una excepción de tipo ```ValueError```.\n",
    "    \n",
    "Por ejemplo, para convertir un dato de entrada en ```float``` y asignarlo a la variable ```f```, la siguiente sintaxis, por medio de la función ```float()```, realiza la transformación del dato ingresado:"
   ]
  },
  {
   "cell_type": "code",
   "execution_count": null,
   "metadata": {},
   "outputs": [],
   "source": [
    "f = float(input('Ingrese un valor: '))\n",
    "type(f)"
   ]
  },
  {
   "cell_type": "markdown",
   "metadata": {},
   "source": [
    "## Sentencia de salida\n",
    "La forma más simple de mostrar (imprimir, desplegar) datos es utilizando la sentencia (o función) `print()`. Esta función, recibe como argumento el(los) dato(s) a mostrar. Por ejemplo,"
   ]
  },
  {
   "cell_type": "code",
   "execution_count": null,
   "metadata": {},
   "outputs": [],
   "source": [
    "print(f)"
   ]
  },
  {
   "cell_type": "markdown",
   "metadata": {},
   "source": [
    "El siguiente ejemplo muestra multiples argumentos."
   ]
  },
  {
   "cell_type": "code",
   "execution_count": null,
   "metadata": {},
   "outputs": [],
   "source": [
    "dia = 23\n",
    "mes = 'Junio'\n",
    "print('El aniversario es el', dia, 'de', mes, '.')"
   ]
  },
  {
   "cell_type": "markdown",
   "metadata": {},
   "source": [
    "Otro alternativa, utilizando anidación de datos,"
   ]
  },
  {
   "cell_type": "code",
   "execution_count": null,
   "metadata": {},
   "outputs": [],
   "source": [
    "print('El aniversario es el ' + str(dia) + ' de ' + mes + '.')"
   ]
  },
  {
   "cell_type": "markdown",
   "metadata": {},
   "source": [
    "Existen [diversas formas](https://docs.python.org/3/tutorial/inputoutput.html#fancier-output-formatting) para establecer el formato de salida a los datos. Un ejemplo para formatear datos consiste en utilizar  __literales de de cadenas formateadas__. Con esta modalidad,\n",
    "- Debe iniciar la cadena con el caracter `f` o `F`, antes de la comilla(s) inicial. \n",
    "- Dentro de la cadena, debe escribir la expresión (p. ej., variables o literales) a formatear entre llaves `{}`."
   ]
  },
  {
   "cell_type": "code",
   "execution_count": null,
   "metadata": {},
   "outputs": [],
   "source": [
    "\n",
    "print(f'El aniversario es el {dia} de {mes}.')"
   ]
  },
  {
   "cell_type": "markdown",
   "metadata": {},
   "source": [
    "## Comentarios en el código fuente\n",
    "Los comentarios son secciones del código ignoradas por el intérprete. \n",
    "\n",
    "- Son usados para documentar el código. \n",
    "- Cualquier texto que aparezca a la derecha del símbolo `#` corresponde a un comentario, excepto cuando el símbolo es incluido en una cadena de caracteres."
   ]
  },
  {
   "cell_type": "markdown",
   "metadata": {},
   "source": [
    "## Ejemplo de algoritmo implementado en Python\n",
    "\n",
    "El siguiente algoritmo calcula el salario bruto y el salario líquido de un trabajdor, a partir del número de horas trabajadas, el valor de la hora y el porcentaje de imposiciónes."
   ]
  },
  {
   "cell_type": "markdown",
   "metadata": {},
   "source": [
    "__Paso 1.__ Análisis de problema.\n",
    "\n",
    "- Considerando que debe calcularse el salario, se establece como __supuesto__ que el algorimto permitirá calcular el salario mensual.\n",
    "- Se identifican que las __entradas__ son las horas trabajadas (número real), el valor de la hora y el porcentaje de imposiciones (entero).\n",
    "- Se identifican como __salidas__ el salario bruto (numero entero) y el salario líquido (número entero).\n",
    "- El proceso que genera las salidas deseadas a partir de las entradas, se define como:\n",
    "\n",
    "\\begin{align}\n",
    "bruto &= horas \\cdot valor\\\\\n",
    "liquido &= bruto \\left( \\frac{100 - imposiciones}{100} \\right)\n",
    "\\end{align}"
   ]
  },
  {
   "cell_type": "markdown",
   "metadata": {},
   "source": [
    "__Paso 2.__ Organigrama (diagrama de flujo)."
   ]
  },
  {
   "cell_type": "markdown",
   "metadata": {},
   "source": [
    "<img src=\"./img/flowchart_salario.svg\" width=\"230px\" />"
   ]
  },
  {
   "cell_type": "markdown",
   "metadata": {},
   "source": [
    "__Paso 3.__ Programa.\n",
    "\n",
    "El programa que es consistente con el diagrama de flujo anterior se presenta a continuación."
   ]
  },
  {
   "cell_type": "code",
   "execution_count": null,
   "metadata": {
    "tags": []
   },
   "outputs": [],
   "source": [
    "# Entradas\n",
    "horas = float(input('Ingrese las horas trabajadas: '))\n",
    "valor = int(input('Ingrese el valor de la hora; '))\n",
    "imposiciones = int(input('ingrese el procentaje de imposiciones: '))\n",
    "\n",
    "# Lógica de resolución\n",
    "bruto = horas * valor\n",
    "liquido = bruto * (100 - imposiciones) / 100\n",
    "\n",
    "# Salidas\n",
    "print('El salario bruto es ', bruto)\n",
    "print('El salirio líquido es ', liquido)\n"
   ]
  },
  {
   "cell_type": "markdown",
   "metadata": {},
   "source": [
    "Las siguientes instrucciones permitirían ejecutar el programa en su computador:\n",
    "\n",
    "1. Abrir un nuevo archivo con cualquier editor de texto.\n",
    "1. Copiar las líneas de código presentadas más arriba.\n",
    "1. Guardar el archivo con el nombre `salario.py`.\n",
    "1. Desde el interprete de comandos de Windows, situarse en la carpeta que contiene el archivo `salario.py`.\n",
    "1. Escribir la siguiente línea de comandos seguido de la tecla `Enter`:\n",
    "\n",
    "```\n",
    "    C:\\...\\> python salario.py\n",
    "```"
   ]
  },
  {
   "cell_type": "markdown",
   "metadata": {},
   "source": [
    "## Verificación y depuración\n",
    "\n",
    "La __verificación__ consiste en ejecutar el programa utilizando un conjunto de datos de prueba, que permiten determinar si un programa contiene errores.\n",
    "\n",
    "La __depuración__ (_debugging_), es el proceso de encontrar y corregir errores en un programa.\n",
    "\n",
    "Cuando se ejecuta un programa se pueden producir 3 tipos de errores:\n",
    "\n",
    "1. Errores de sintaxis\n",
    "2. Errores en tiempo de ejecución o excepciones\n",
    "3. Errrores de semántica"
   ]
  },
  {
   "cell_type": "markdown",
   "metadata": {},
   "source": [
    "### Errores de sintaxis\n",
    "\n",
    "Son errores que se producen por __uso incorrecto de las reglas del lenguaje de programación__. \n",
    "- Se notifican antes de que el programa comience a ejecutarse.\n",
    "- Típicamente se indica la ubicación del error después de que realmente ocurra.\n",
    "\n",
    "Por lo tanto, cuando se reporta un error de sintaxis debe revisarse desde donde se reporta el error hacia atrás."
   ]
  },
  {
   "cell_type": "code",
   "execution_count": null,
   "metadata": {},
   "outputs": [],
   "source": [
    "5 / (2 ** 2"
   ]
  },
  {
   "cell_type": "markdown",
   "metadata": {},
   "source": [
    "### Errores en tiempo de ejecución (_runtime error_)\n",
    "\n",
    "Los [errores en tiempo de ejecución](https://docs.python.org/3/library/exceptions.html#concrete-exceptions) son __producidos por instrucciones que son interpretadas por el ordenador pero que no se pueden ejecutar__ (p. ej., divisiones por cero, raíz cuadrada de números negativos). \n",
    "- Se detectan mientras el programa está en ejecución.\n",
    "- La ejecución se detiene y se muestra el mensaje de error.\n",
    "\n",
    "Un ejemplo, es el que se produce cuando se realiza una __división por cero__:"
   ]
  },
  {
   "cell_type": "code",
   "execution_count": null,
   "metadata": {},
   "outputs": [],
   "source": [
    "5 / 0"
   ]
  },
  {
   "cell_type": "markdown",
   "metadata": {},
   "source": [
    "Un __error de nombre__ se genera cuando la primera operación se realiza sobre variables que no han sido asignadas:Un error de nombre se genera cuando la primera operación se realiza sobre variables que no han sido asignadas:"
   ]
  },
  {
   "cell_type": "code",
   "execution_count": null,
   "metadata": {},
   "outputs": [],
   "source": [
    "a + 2"
   ]
  },
  {
   "cell_type": "markdown",
   "metadata": {},
   "source": [
    "Un __error de tipo__, ocurre al aplicar una operación sobre operandos de tipos que no soportan dicha operación:"
   ]
  },
  {
   "cell_type": "code",
   "execution_count": null,
   "metadata": {},
   "outputs": [],
   "source": [
    "5 + 'a'"
   ]
  },
  {
   "cell_type": "markdown",
   "metadata": {},
   "source": [
    "El __error de valor__ ocurre cuando las operaciones no tienen sentido sobre los operandos y es indicado con la excepción:"
   ]
  },
  {
   "cell_type": "code",
   "execution_count": null,
   "metadata": {},
   "outputs": [],
   "source": [
    "int('a')"
   ]
  },
  {
   "cell_type": "markdown",
   "metadata": {},
   "source": [
    "### Errrores de semántica\n",
    "Se producen en la lógica del programa y __la fuente de los errores está en el diseño del algoritmo__. \n",
    "\n",
    "Para corregirlos se debe revisar la fase de diseño del algoritmo, modificar el algoritmo y volver a implementar en el código fuente."
   ]
  },
  {
   "cell_type": "markdown",
   "metadata": {},
   "source": [
    "## Ejercicio \n",
    "\n",
    "Considere una versión alternativa para el ejercicio anterior el cuá debe calcular y mostrar los salarios bruto y líquido de un trabajador. Sin embargo, al momento de ejecutar el programa con datos de prueba estos no coinciden con los resultados esperados.\n",
    "\n",
    "Considere usar los siguientes datos de prueba:\n",
    "- Horas trabjadas: 9.5 horas\n",
    "- Valor de la hora: $ 10000\n",
    "- Imposiciones: 20%\n",
    "\n",
    "De acuerdo a la lógica de resolución los resultados esperados ser:"
   ]
  },
  {
   "cell_type": "markdown",
   "metadata": {},
   "source": [
    "\\begin{align}\n",
    "bruto &= horas \\cdot valor &\\Longrightarrow &\\qquad 9.5 \\cdot 10000 = 95000\\\\\n",
    "liquido &= bruto \\left( \\frac{100 - imposiciones}{100} \\right) &\\Longrightarrow &\\qquad 95000 \\left( \\frac{100 - 20}{100} \\right) = 76000\n",
    "\\end{align}\n"
   ]
  },
  {
   "cell_type": "markdown",
   "metadata": {},
   "source": [
    "Identifique el(los) error(es) y repare el almoritmo para que funciones de acuerdo a lo esperado."
   ]
  },
  {
   "cell_type": "code",
   "execution_count": null,
   "metadata": {
    "tags": []
   },
   "outputs": [],
   "source": [
    "# Entradas\n",
    "horas = input('Ingrese las horas trabajadas: ')\n",
    "valor = input('Ingrese el valor de la hora; ')\n",
    "imposiciones = input('ingrese el procentaje de imposiciones: ')\n",
    "\n",
    "# Lógica de resolución\n",
    "bruto = float(horas) * int(valor)\n",
    "liquido = bruto * 100 - int(imposiciones) / 100\n",
    "\n",
    "# Salidas\n",
    "print('El salario bruto es ', bruto)\n",
    "print('El salirio líquido es ', liquido)"
   ]
  }
 ],
 "metadata": {
  "language_info": {
   "codemirror_mode": {
    "name": "ipython",
    "version": 3
   },
   "file_extension": ".py",
   "mimetype": "text/x-python",
   "name": "python",
   "nbconvert_exporter": "python",
   "pygments_lexer": "ipython3",
   "version": "3.7.6-final"
  },
  "orig_nbformat": 2,
  "kernelspec": {
   "name": "python3",
   "display_name": "Python 3"
  }
 },
 "nbformat": 4,
 "nbformat_minor": 2
}