{
 "cells": [
  {
   "cell_type": "markdown",
   "metadata": {},
   "source": [
    "# Ejercicios de algoritmos utilizando bucles\n",
    "\n",
    "### E1. Seguimiento de algoritmos\n",
    "\n",
    "Analiza los algoritmos presentados a continuación. A partir de la ejecución de las instrucciones, cada vez que el valor de una variable cambia escribe su valor en una nueva fila de la tabla. Si el dato es de tipo cadena de caracteres, debes escribirla entre comillas y dobles."
   ]
  },
  {
   "cell_type": "code",
   "execution_count": null,
   "metadata": {},
   "outputs": [],
   "source": [
    "i = 0\n",
    "while i < 6:\n",
    "    print(i)\n",
    "    i += 1"
   ]
  },
  {
   "cell_type": "code",
   "execution_count": null,
   "metadata": {},
   "outputs": [],
   "source": [
    "i = 0\n",
    "while i < 6:\n",
    "    i += 1\n",
    "    print(i)"
   ]
  },
  {
   "cell_type": "code",
   "execution_count": null,
   "metadata": {},
   "outputs": [],
   "source": [
    "n = int(input('n: '))\n",
    "mx = n\n",
    "mn = n\n",
    "for i in range(2, 101):\n",
    "    n = int(input('n: '))\n",
    "    if n > mx:\n",
    "        mx = n\n",
    "    elif n < mn:\n",
    "        mn = n\n",
    "print(mn, mx)"
   ]
  },
  {
   "cell_type": "markdown",
   "metadata": {},
   "source": [
    "### E2. Diseño de algoritmos\n",
    "\n",
    "E2a. Diseñe dos programan que muestren la tabla de multiplicar, desde el 1 al 10, de un número ingresado por el usuario. Para diseñar uno de los programas debe usar el bucle `for` y para el otro, el bucle `while`.\n",
    "\n",
    "La ejecución de ambos programas debería mostrar el siguiente comportamiento:\n",
    "\n",
    "```\n",
    "ingrese número: 5\n",
    "    1 x 5 = 5\n",
    "    2 x 5 = 10\n",
    "    3 x 5 = 15\n",
    "    4 x 5 = 20\n",
    "    5 x 5 = 25\n",
    "    6 x 5 = 30\n",
    "    7 x 5 = 35\n",
    "    8 x 5 = 40\n",
    "    9 x 5 = 45\n",
    "   10 x 5 = 50\n",
    "```"
   ]
  },
  {
   "cell_type": "markdown",
   "metadata": {},
   "source": [
    "E2b. Diseñe un programa que calcule la suma de un conjunto de números ingresados por el usuario. El programa deberá mostrar el resultado cuando el usuario igrese el valor cero.\n",
    "\n",
    "Un ejemplo de la ejecución del programa se muestra a continuación:\n",
    "\n",
    "```\n",
    "n: 3\n",
    "n: 2\n",
    "n: 4\n",
    "n: 1\n",
    "n: 0\n",
    "La suma es 13\n",
    "```\n",
    "```\n",
    "n: 10\n",
    "n: 32\n",
    "n: 45\n",
    "n: 0\n",
    "La suma es 87\n",
    "```"
   ]
  },
  {
   "cell_type": "markdown",
   "metadata": {},
   "source": [
    "E2c Modifica el programa anterior (E2b) para que cada vez que se solicite un nuevo valor se muestre la suma acumulada."
   ]
  },
  {
   "cell_type": "markdown",
   "metadata": {},
   "source": [
    "E2d. Diseña un programa que calcule el promedio simple de notas ingresadas por el usuario. El programa debe finalizar cuando ingresa la letra `x`, y deberá mostrar el promedio calculado. Además, el programa deberá omitir aquellos valores que se encuentran fuera del dominio (1 - 7).\n",
    "\n",
    "El programa debería mostrar el siguiente comportamiento:\n",
    "\n",
    "```\n",
    "ingrese nota 1: 1\n",
    "ingrese nota 2: 2.5\n",
    "ingrese nota 3: 4\n",
    "ingrese nota 4: x\n",
    "El promedio es 2.5\n",
    "```\n",
    "```\n",
    "ingrese nota 1: 7\n",
    "ingrese nota 2: 5\n",
    "ingrese nota 3: x\n",
    "El promedio es 6.0\n",
    "```"
   ]
  },
  {
   "cell_type": "markdown",
   "metadata": {},
   "source": [
    "E2e. Diseña un programa que identifique si un número ingresado es primo o compuesto.\n",
    "\n",
    "\n",
    "```\n",
    "Ingresa un número: 5\n",
    "Es primo\n",
    "```\n",
    "\n",
    "```\n",
    "Ingresa un número: 58\n",
    "Es compuesto\n",
    "```"
   ]
  },
  {
   "cell_type": "markdown",
   "metadata": {},
   "source": [
    "E2f. Diseña un programa que imprima todos los números primos que exiten entre dos números ingresados. El programa debería mostrar el siguiente comportamiento:\n",
    "\n",
    "```\n",
    "Número menor: 1\n",
    "Número mayor: 7\n",
    "2\n",
    "3\n",
    "5\n",
    "```\n",
    "```\n",
    "Número menor: 5\n",
    "Número mayor: 9\n",
    "7\n",
    "```\n"
   ]
  }
 ],
 "metadata": {
  "kernelspec": {
   "display_name": "Python 3",
   "language": "python",
   "name": "python3"
  },
  "language_info": {
   "codemirror_mode": {
    "name": "ipython",
    "version": 3
   },
   "file_extension": ".py",
   "mimetype": "text/x-python",
   "name": "python",
   "nbconvert_exporter": "python",
   "pygments_lexer": "ipython3",
   "version": "3.7.6-final"
  }
 },
 "nbformat": 4,
 "nbformat_minor": 2
}