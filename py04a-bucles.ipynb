{
 "cells": [
  {
   "cell_type": "markdown",
   "metadata": {},
   "source": [
    "# Ejercicios de algoritmos utilizando bucles\n",
    "\n",
    "### E1. Seguimiento de algoritmos\n",
    "\n",
    "1.  Utilizando un tabla de seguimiento, realiza la ejecución manual de cada instrucciones de los algoritmos y, cada vez que el valor de una variable cambia escribe su valor en una nueva fila de la tabla. Si el dato es de tipo cadena de caracteres (`str`), debes escribirla entre comillas simples o dobles.\n",
    "\n",
    "2. Una vez terminado el seguimiento, describe cuál es la función de cada algoritmo.\n",
    "\n",
    "3. Como actividad complementaria, diseña el diagrama de flujo correspondiente para cada algoritmo."
   ]
  },
  {
   "cell_type": "code",
   "execution_count": null,
   "metadata": {},
   "outputs": [],
   "source": [
    "i = 0\n",
    "while i < 6:\n",
    "    print(i)\n",
    "    i += 1"
   ]
  },
  {
   "cell_type": "code",
   "execution_count": null,
   "metadata": {},
   "outputs": [],
   "source": [
    "i = 0\n",
    "while i < 6:\n",
    "    i += 1\n",
    "    print(i)"
   ]
  },
  {
   "cell_type": "code",
   "execution_count": null,
   "metadata": {},
   "outputs": [],
   "source": [
    "n = int(input('n: '))\n",
    "mx = n\n",
    "mn = n\n",
    "for i in range(2, 101):\n",
    "    n = int(input('n: '))\n",
    "    if n > mx:\n",
    "        mx = n\n",
    "    elif n < mn:\n",
    "        mn = n\n",
    "print(mn, mx)"
   ]
  },
  {
   "cell_type": "markdown",
   "metadata": {},
   "source": [
    "### E2. Diseño de algoritmos"
   ]
  },
  {
   "cell_type": "markdown",
   "metadata": {},
   "source": [
    "E2a. Diseñe un programa que muestre las tablas de multiplicar del 1 al 10, de los productos sucesivos desde el 0 al 12."
   ]
  },
  {
   "cell_type": "markdown",
   "metadata": {},
   "source": [
    "E2b. Diseñe un programa que calcule la suma de un conjunto de números ingresados por el usuario. El programa deberá mostrar el resultado cuando el usuario igrese el valor cero.\n",
    "\n",
    "Un ejemplo de la ejecución del programa se muestra a continuación:\n",
    "\n",
    "```\n",
    "n: 3\n",
    "n: 2\n",
    "n: 4\n",
    "n: 1\n",
    "n: 0\n",
    "La suma es 13\n",
    "```\n",
    "```\n",
    "n: 10\n",
    "n: 32\n",
    "n: 45\n",
    "n: 0\n",
    "La suma es 87\n",
    "```"
   ]
  },
  {
   "cell_type": "markdown",
   "metadata": {},
   "source": [
    "E2c Modifica el programa anterior (E2b) para que cada vez que se solicite un nuevo valor se muestre la suma acumulada."
   ]
  },
  {
   "cell_type": "markdown",
   "metadata": {},
   "source": [
    "E2d. Diseña un programa que calcule el promedio simple de notas ingresadas por el usuario. El programa debe finalizar cuando se ingresa la letra `x`, y deberá mostrar el promedio calculado. Además, el programa deberá omitir aquellos valores que se encuentran fuera del dominio (1 - 7).\n",
    "\n",
    "El programa debería mostrar el siguiente comportamiento:\n",
    "\n",
    "```\n",
    "ingrese nota 1: 1\n",
    "ingrese nota 2: 2.5\n",
    "ingrese nota 3: 4\n",
    "ingrese nota 4: x\n",
    "El promedio es 2.5\n",
    "```\n",
    "```\n",
    "ingrese nota 1: 7\n",
    "ingrese nota 2: 5\n",
    "ingrese nota 3: x\n",
    "El promedio es 6.0\n",
    "```"
   ]
  },
  {
   "cell_type": "markdown",
   "metadata": {},
   "source": [
    "E2e. Diseña un programa que identifique si un número ingresado es primo o compuesto.\n",
    "\n",
    "\n",
    "```\n",
    "Ingresa un número: 5\n",
    "Es primo\n",
    "```\n",
    "\n",
    "```\n",
    "Ingresa un número: 58\n",
    "Es compuesto\n",
    "```"
   ]
  },
  {
   "cell_type": "markdown",
   "metadata": {},
   "source": [
    "E2f. Diseña un programa que imprima todos los números primos que exiten entre dos números ingresados. El programa debería mostrar el siguiente comportamiento:\n",
    "\n",
    "```\n",
    "Número menor: 1\n",
    "Número mayor: 7\n",
    "2\n",
    "3\n",
    "5\n",
    "```\n",
    "```\n",
    "Número menor: 5\n",
    "Número mayor: 9\n",
    "7\n",
    "```\n"
   ]
  }
 ],
 "metadata": {
  "interpreter": {
   "hash": "b28515e4b762c096acf07038d3ee3c15931ad16d0940885c685d67d53c3751a1"
  },
  "kernelspec": {
   "display_name": "Python 3.8.5 64-bit ('base': conda)",
   "name": "python3"
  },
  "language_info": {
   "name": "python",
   "version": ""
  }
 },
 "nbformat": 4,
 "nbformat_minor": 2
}