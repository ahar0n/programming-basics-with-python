{
 "cells": [
  {
   "cell_type": "markdown",
   "metadata": {},
   "source": [
    "# Ejercicios de diseño de algoritmos con flujo secuencial"
   ]
  },
  {
   "cell_type": "markdown",
   "metadata": {},
   "source": [
    "Para cada uno de los siguientes problemas generar los siguientes resultados:\n",
    "- Representación gráfica del algoritmo\n",
    "- Código fuente en Python"
   ]
  },
  {
   "cell_type": "markdown",
   "metadata": {},
   "source": [
    "### Circunferencia"
   ]
  },
  {
   "cell_type": "markdown",
   "metadata": {},
   "source": [
    "E1. Escribir el programa ```circunferencia.py``` que muestre el perímetro y el área de una circunferencia a partir del radio ingresado por el usuario.\n",
    "\n",
    "El programa debe tener el siguiente comportamiento:\n",
    "\n",
    "<pre>\n",
    "Ingrese el radio: <strong>5</strong>\n",
    "El perimetro es 31.42 y el área es 78.54.\n",
    "</pre>"
   ]
  },
  {
   "cell_type": "markdown",
   "metadata": {},
   "source": [
    "### Distancia en el plano"
   ]
  },
  {
   "cell_type": "markdown",
   "metadata": {},
   "source": [
    "E2. Escribir un programa que entregue la distancia entre dos puntos partir de las coordenadas cartesianas $(x,y)$ de estos. Recordar que la distancia entre dos puntos A y B puede calcularse a partir de la siguiente expresión:\n",
    "\n",
    "$$ \\overline{AB} = \\sqrt{(x_B - x_A)^2 + (y_B - y_A)^2} $$\n",
    "\n",
    "El programa debe tener el siguiente comportamiento:\n",
    "\n",
    "<pre>\n",
    "Xa: <strong>3</strong>\n",
    "Ya: <strong>0</strong>\n",
    "Xb: <strong>7</strong>\n",
    "Yb: <strong>3</strong>\n",
    "La distancia entre A y B es 5.\n",
    "</pre>\n"
   ]
  },
  {
   "cell_type": "markdown",
   "metadata": {},
   "source": [
    "### Nota mínima para aprobar"
   ]
  },
  {
   "cell_type": "markdown",
   "metadata": {},
   "source": [
    "E3. El promedio de notas de una asignatura es obtenido a partir 3 notas parciales cuyas ponderaciones son 25%, 35% y 40%, respectivamente. Escribir el programa ```nota.py``` que pregunte al usuario las notas de los primeros 2 certámenes y entregue la nota que necesita obtener en el tercer certamen para aprobar la asignatura con un promedio de 5.0.\n",
    "\n",
    "Por ejemplo,\n",
    "\n",
    "<pre>\n",
    "Ingrese nota 1: <strong>4.3</strong>\n",
    "Ingrese nota 2: <strong>5.1</strong>\n",
    "Necesita un 5.3 para aprobar la asignatura.\n",
    "</pre>"
   ]
  },
  {
   "cell_type": "markdown",
   "metadata": {},
   "source": [
    "### Análisis\n",
    "\n",
    "- Identificar entradas (cantidad y tipos): 2 datos de tipo numérico con un parte decimal, es decir, de tipo flotante (`float`).\n",
    "- Identificar las salidas (cantidad y tipo): 1 dato de tipo cadena de texto, en el cual estará incluida la tercera nota (la nota que pondera con un 40%).\n",
    "- Proceso:\n",
    "\n",
    "$$ promedio = n_{1} \\cdot 0,25 + n_{2} \\cdot 0,35 + n_{3} \\cdot 0,40 $$\n",
    "$$ n3 = \\frac{promedio - ( 0,25 \\cdot n_{1} + 0,35 \\cdot n_{2})}{0,40} $$\n",
    "\n",
    "\n",
    "### Diseño del algoritmo\n",
    "\n",
    "\n",
    "### Códificación"
   ]
  },
  {
   "cell_type": "code",
   "execution_count": null,
   "metadata": {},
   "outputs": [],
   "source": [
    "# las entradas\n",
    "nota_1 = float(input('Ingrese nota 1: '))\n",
    "ponderacion_1 = int(input('Ingrese ponderación nota 1: ')) # 25 int\n",
    "nota_2 = float(input('Ingrese nota 2: '))\n",
    "ponderacion_2 = int(input('Ingrese ponderación nota 2: ')) # 35 int\n",
    "promedio = float(input('Ingrese el promedio deseado: '))\n",
    "\n",
    "# proceso\n",
    "nota_3 = (promedio - (ponderacion_1/100*nota_1 + ponderacion_2/100*nota_2)) / 0.40\n",
    "\n",
    "# las salidas\n",
    "print(f'Necesita un {nota_3} para aprobar la asignatura')"
   ]
  }
 ],
 "metadata": {
  "interpreter": {
   "hash": "202d1d44df6c15928d09411a0b718e4d5217eaa1aee5fa2339bd60bdd09bd4e9"
  },
  "kernelspec": {
   "display_name": "Python 3.8.8 64-bit",
   "name": "python3"
  },
  "language_info": {
   "name": "python",
   "version": ""
  }
 },
 "nbformat": 4,
 "nbformat_minor": 2
}