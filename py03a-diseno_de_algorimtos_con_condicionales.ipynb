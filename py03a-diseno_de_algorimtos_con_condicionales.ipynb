{
 "cells": [
  {
   "cell_type": "markdown",
   "metadata": {},
   "source": [
    "# Ejercicios de diseño de algoritmos con sentencias condicionales\n",
    "\n",
    "Para cada uno de los siguientes problemas generar los siguientes resultados:\n",
    "- Representación gráfica del algoritmo\n",
    "- Código fuente en Python"
   ]
  },
  {
   "cell_type": "markdown",
   "metadata": {},
   "source": [
    "E1. Diseñar un algoritmo que calcule el valor de una boleta de venta. El impuesto que se le aplica a una venta es del 19 %, y si el precio bruto (valor neto + impuesto) es mayor que $15000, se le debe aplicar un descuento del 5 % de la venta total."
   ]
  },
  {
   "cell_type": "markdown",
   "metadata": {},
   "source": [
    "E2. El artículo 48 del Reglamento General de Docencia de Pregrado, el Diploma de Grado Académico que otorga la UdeC, indica la nota obtenida por el egresado asociada a uno de los siguientes conceptos:\n",
    "\n",
    "- Aprobado por Unanimidad \n",
    "- Aprobado con Distinción \n",
    "- Aprobado con Distinción Máxima\n",
    "\n",
    "Diseñar un programa que indique el concepto alcanzado a partir de una nota ingresada."
   ]
  },
  {
   "cell_type": "markdown",
   "metadata": {},
   "source": [
    "E3. Diseñar un algoritmo que, a partir de los números dividendo y el divisor, calcule y muestre la división, el cociente. Además, debe mostrar si la división es exacta o no. En el caso que la división no sea exacta, debe mostrar el resto."
   ]
  },
  {
   "cell_type": "markdown",
   "metadata": {},
   "source": [
    "E4. Diseñar un algoritmo que, a partir de las coordenadas cartesianas (x,y) de 3 puntos ingresadas por el usuario, muestre los 2 puntos que se encuentran más cercanos entre ellos."
   ]
  }
 ],
 "metadata": {
  "kernelspec": {
   "display_name": "Python 3",
   "language": "python",
   "name": "python3"
  },
  "language_info": {
   "codemirror_mode": {
    "name": "ipython",
    "version": 3
   },
   "file_extension": ".py",
   "mimetype": "text/x-python",
   "name": "python",
   "nbconvert_exporter": "python",
   "pygments_lexer": "ipython3",
   "version": "3.6.5"
  }
 },
 "nbformat": 4,
 "nbformat_minor": 2
}