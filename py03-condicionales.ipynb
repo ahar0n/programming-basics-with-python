{
 "cells": [
  {
   "cell_type": "markdown",
   "metadata": {},
   "source": [
    "# Sentencias condicionales\n",
    "\n",
    "### Contenidos\n",
    "\n",
    "1. Condicional simple ```if```\n",
    "2. Condicional doble ```if-else```\n",
    "3. Comdicional anidada ```if-elif-else```"
   ]
  },
  {
   "cell_type": "markdown",
   "metadata": {},
   "source": [
    "## Sentencia condicional\n",
    "\n",
    "Una sentencia condicional ejecuta acciones dependiendo de __si una condición booleana especificada se evalúa como verdadera o falsa__.\n",
    "\n",
    "En Python, se implementan las sentencias <code>if</code>, <code>if-else</code>, <code>if-elif-else</code>.\n"
   ]
  },
  {
   "cell_type": "markdown",
   "metadata": {},
   "source": [
    "## Condicional simple <code>if</code>\n",
    "Ejecuta un conjunto de sentencias si una condición es verdadera."
   ]
  },
  {
   "cell_type": "markdown",
   "metadata": {},
   "source": [
    "![Condicional simple IF](./img/if.svg)"
   ]
  },
  {
   "cell_type": "markdown",
   "metadata": {},
   "source": [
    "El siguiente código implementa la estructura condicional simple `if` a partir de una condición formada con comparadores dobles.\n",
    "\n",
    "De acuerdo a la sintaxis de Python,\n",
    "- La indentación (espacios al principio de una línea) indican el nivel de agrupamiento.\n",
    "- La condición de la sentencia condicional debe finalizar agregar el simbolo dos puntos (`:`)."
   ]
  },
  {
   "cell_type": "code",
   "execution_count": null,
   "metadata": {
    "scrolled": false,
    "tags": []
   },
   "outputs": [],
   "source": [
    "n = int(input('Ingrese un numero: '))\n",
    "if 0 < n:\n",
    "    print('El número es positivo')"
   ]
  },
  {
   "cell_type": "markdown",
   "metadata": {},
   "source": [
    "En el siguiente ejemplo, el programa calcula el valor absoluto de un número, utilizando una sentencia condicional simple."
   ]
  },
  {
   "cell_type": "code",
   "execution_count": null,
   "metadata": {
    "tags": []
   },
   "outputs": [],
   "source": [
    "x = float(input('Ingrese número: '))\n",
    "if x < 0:\n",
    "    x = -x\n",
    "print(x)"
   ]
  },
  {
   "cell_type": "markdown",
   "metadata": {},
   "source": [
    "### Anidar condicionales simples\n",
    "Además, es posible anidar sentencias condicionales simples. En el siguiente ejemplo se muestra la anidación de condicionales para evaluar si un número pertenece a un rango específico."
   ]
  },
  {
   "cell_type": "code",
   "execution_count": null,
   "metadata": {
    "tags": []
   },
   "outputs": [],
   "source": [
    "nota = float(input('Ingrese su nota: '))\n",
    "if nota >= 4:\n",
    "    if nota < 5:\n",
    "        print('Aprobado por Unanimidad')"
   ]
  },
  {
   "cell_type": "markdown",
   "metadata": {},
   "source": [
    "## Condicional doble <code>if-else</code>\n",
    "Sentencia que conduce a ejecutar una acción si se cumple una condición, y ejecutar otra acción si no se cumple."
   ]
  },
  {
   "cell_type": "markdown",
   "metadata": {},
   "source": [
    "<div class=\"text-center\"><img src=\"img/if-else.svg\" class=\"rounded\" alt=\"if-else\"></div>"
   ]
  },
  {
   "cell_type": "markdown",
   "metadata": {},
   "source": [
    "En Python, es importante respetar la indentación que para este caso, ```if``` y ```else``` deben estar alineados en la misma columna. En caso contrario, se produce un ```IndentationError```."
   ]
  },
  {
   "cell_type": "code",
   "execution_count": null,
   "metadata": {},
   "outputs": [],
   "source": [
    "n = int(input('Ingrese numero: '))\n",
    "if 0 > n:\n",
    "    print('El numero ingresado es negativo')\n",
    "else:\n",
    "    print('El numero ingresado es positivo')"
   ]
  },
  {
   "cell_type": "markdown",
   "metadata": {},
   "source": [
    "El siguiente programa calcula el valor absoluto de un número, usando sentencias condicionales dobles."
   ]
  },
  {
   "cell_type": "code",
   "execution_count": null,
   "metadata": {
    "tags": []
   },
   "outputs": [],
   "source": [
    "x = int(input('Ingrese numero: '))\n",
    "if x < 0:\n",
    "    print(-x)\n",
    "else:\n",
    "    print(x)"
   ]
  },
  {
   "cell_type": "markdown",
   "metadata": {},
   "source": [
    "A continuación se presentan dos versiones alternativas de un programa que resuelve el problema de determinar si un número ingresado por el usuario es par o impar. La primera versión utilizando sentencia condicional simple, y la segunda, utilizando sentencia condicional doble."
   ]
  },
  {
   "cell_type": "code",
   "execution_count": null,
   "metadata": {
    "tags": []
   },
   "outputs": [],
   "source": [
    "# Determina par o impar usando sentencia condicional simple\n",
    "x = int(input('Ingrese número: '))\n",
    "msg = 'Es par'\n",
    "if x%2 != 0:\n",
    "    msg = 'Es impar'\n",
    "print(msg)"
   ]
  },
  {
   "cell_type": "code",
   "execution_count": null,
   "metadata": {},
   "outputs": [],
   "source": [
    "# Determina par o impar usando sentencia condicional dobles\n",
    "x = int(input('Ingrese número: '))\n",
    "if x%2 == 0:\n",
    "    print('Es par')\n",
    "else:\n",
    "    print('Es impar')"
   ]
  },
  {
   "cell_type": "markdown",
   "metadata": {},
   "source": [
    "## Condicional anidada compacta <code>if-elif-else</code>\n",
    "Proporciona una forma compacta de la estructura condicional anidada <code>if</code></strong>, lo que permite ahorrar una indentación y mejora la legibilidad del código."
   ]
  },
  {
   "cell_type": "markdown",
   "metadata": {},
   "source": [
    "![Condicional anadida compacta](img/if-elif-else.svg)"
   ]
  },
  {
   "cell_type": "markdown",
   "metadata": {},
   "source": [
    "El siguiente ejemplo, resuelve las tres alternativas que puede tomar el ingreso de un número entero."
   ]
  },
  {
   "cell_type": "code",
   "execution_count": null,
   "metadata": {
    "scrolled": true
   },
   "outputs": [],
   "source": [
    "n = int(input('Ingrese numero: '))\n",
    "if n < 0:\n",
    "    print('El numero ingresado es negativo')\n",
    "elif n > 0:\n",
    "    print('El numero ingresado es positivo')\n",
    "else:\n",
    "    print('El número es cero')"
   ]
  },
  {
   "cell_type": "markdown",
   "metadata": {},
   "source": [
    "Una representación alternativa, equivalente al código anterior, pero utilizando sentencia condicional doble:"
   ]
  },
  {
   "cell_type": "code",
   "execution_count": null,
   "metadata": {},
   "outputs": [],
   "source": [
    "n = int(input('Ingrese numero: '))\n",
    "if n < 0:\n",
    "    print('El numero ingresado es negativo')\n",
    "else:\n",
    "    if n > 0:\n",
    "        print('El numero ingresado es positivo')\n",
    "    else:\n",
    "        print('El número es cero')"
   ]
  },
  {
   "cell_type": "markdown",
   "metadata": {},
   "source": [
    "## Ejemplo: Solución de ecuación de segundo grado\n",
    "\n",
    "Para una ecuación cuadrática,\n",
    "\n",
    "\\begin{equation}\n",
    "ax^2 + bx + c = 0,\\quad a<> 0,\n",
    "\\end{equation}\n",
    "\n",
    "    \n",
    "con coeficientes reales o complejos existen siempre dos soluciones, no necesariamente distintas, llamadas raíces, que pueden ser reales o complejas. Si los coeficientes son reales y existen dos soluciones no reales, entonces deben ser complejas conjugadas. La formula general:\n",
    "\n",
    "\\begin{equation}\n",
    "x = \\frac{-b \\pm \\sqrt{b^2 - 4ac}}{2a}\n",
    "\\end{equation}\n",
    "\n",
    "\n",
    "Considerando coeficientes reales, la ecuación tiene dos soluciones reales distintas o una sola solución real de multiplicidad 2, o bien dos raíces complejas. El discriminante $\\Delta = b^2 - 4ac$, permite determinar la cantidad de raíces de acuerdo a los siguientes criterios.\n",
    "\n",
    "- Si $\\Delta > 0$, hay dos soluciones reales:\n",
    "\n",
    "\\begin{equation}\n",
    "x_1 = \\frac{-b + \\sqrt{\\Delta}}{2a}; \\quad x_2 = \\frac{-b - \\sqrt{\\Delta}}{2a}\n",
    "\\end{equation}\n",
    "\n",
    "- Si $\\Delta = 0$, hay una solución real:\n",
    "\n",
    "\\begin{equation}    \n",
    "x_1 = x_2 = \\frac{-b}{2a}\n",
    "\\end{equation}\n",
    "\n",
    "- Si $\\Delta < 0$, hay dos soluciones complejas.\n",
    "\n",
    "A continuación se presenta un programa que implementa la solución de la ecuación cuadrática en el dominio de los reales, de acuerdo al algoritmo descrito arriba. El algoritmo, supone que los datos de entrada son los coeficientes de la ecuación."
   ]
  },
  {
   "cell_type": "code",
   "execution_count": null,
   "metadata": {
    "scrolled": true,
    "tags": []
   },
   "outputs": [],
   "source": [
    "# ecuacion_segundo_grado.py Resuelve una ecuación de segundo grado\n",
    "# prueba 1: delta > 0, a=1, b=5, c=1 => 2 Soluciones reales\n",
    "# prueba 2: delta < 0, a=1, b=2, c=3 => Sol en complejos\n",
    "# prueba 3: delta == 0, a=1, b=2, c=1 => Sol unica\n",
    "# prueba 4: a=0, b=2, c=3 => No tiene solucion (o indeterminacion) \n",
    "\n",
    "a = float(input('a: '))\n",
    "b = float(input('b: '))\n",
    "c = float(input('c: '))\n",
    "\n",
    "delta = b**2 - (4*a*c)\n",
    "\n",
    "if delta > 0:\n",
    "    x1 = (-b + delta**0.5) / (2*a)\n",
    "    x2 = (-b - delta**0.5) / (2*a)\n",
    "    print('x1 =', x1)\n",
    "    print('x2 =', x2)\n",
    "elif delta == 0:\n",
    "    x = -b / (2*a)\n",
    "    print('x1 = x2 =', x)\n",
    "else:\n",
    "    print('Solución en los complejos!')"
   ]
  }
 ],
 "metadata": {
  "kernelspec": {
   "display_name": "Python 3",
   "language": "python",
   "name": "python3"
  },
  "language_info": {
   "codemirror_mode": {
    "name": "ipython",
    "version": 3
   },
   "file_extension": ".py",
   "mimetype": "text/x-python",
   "name": "python",
   "nbconvert_exporter": "python",
   "pygments_lexer": "ipython3",
   "version": "3.7.3-final"
  }
 },
 "nbformat": 4,
 "nbformat_minor": 2
}